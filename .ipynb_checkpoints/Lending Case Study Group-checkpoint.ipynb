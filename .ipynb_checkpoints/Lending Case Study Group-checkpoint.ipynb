{
 "cells": [
  {
   "cell_type": "code",
   "execution_count": 1,
   "id": "2e10231d",
   "metadata": {},
   "outputs": [],
   "source": [
    "import numpy as np\n",
    "import pandas as pd\n",
    "import seaborn as sns\n",
    "import matplotlib.pyplot as plt\n",
    "import warnings\n",
    "warnings.filterwarnings('ignore')"
   ]
  },
  {
   "cell_type": "code",
   "execution_count": 2,
   "id": "cb3bc1f8",
   "metadata": {},
   "outputs": [],
   "source": [
    "df_loan=pd.read_csv('loan.csv')"
   ]
  },
  {
   "cell_type": "markdown",
   "id": "781921fd",
   "metadata": {},
   "source": [
    "# Data Preprocessing"
   ]
  },
  {
   "cell_type": "markdown",
   "id": "2550f809",
   "metadata": {},
   "source": [
    "**Analyzing raw data: Check the first 5 rows.**"
   ]
  },
  {
   "cell_type": "code",
   "execution_count": 3,
   "id": "18fe4d75",
   "metadata": {},
   "outputs": [
    {
     "data": {
      "text/html": [
       "<div>\n",
       "<style scoped>\n",
       "    .dataframe tbody tr th:only-of-type {\n",
       "        vertical-align: middle;\n",
       "    }\n",
       "\n",
       "    .dataframe tbody tr th {\n",
       "        vertical-align: top;\n",
       "    }\n",
       "\n",
       "    .dataframe thead th {\n",
       "        text-align: right;\n",
       "    }\n",
       "</style>\n",
       "<table border=\"1\" class=\"dataframe\">\n",
       "  <thead>\n",
       "    <tr style=\"text-align: right;\">\n",
       "      <th></th>\n",
       "      <th>id</th>\n",
       "      <th>member_id</th>\n",
       "      <th>loan_amnt</th>\n",
       "      <th>funded_amnt</th>\n",
       "      <th>funded_amnt_inv</th>\n",
       "      <th>term</th>\n",
       "      <th>int_rate</th>\n",
       "      <th>installment</th>\n",
       "      <th>grade</th>\n",
       "      <th>sub_grade</th>\n",
       "      <th>...</th>\n",
       "      <th>num_tl_90g_dpd_24m</th>\n",
       "      <th>num_tl_op_past_12m</th>\n",
       "      <th>pct_tl_nvr_dlq</th>\n",
       "      <th>percent_bc_gt_75</th>\n",
       "      <th>pub_rec_bankruptcies</th>\n",
       "      <th>tax_liens</th>\n",
       "      <th>tot_hi_cred_lim</th>\n",
       "      <th>total_bal_ex_mort</th>\n",
       "      <th>total_bc_limit</th>\n",
       "      <th>total_il_high_credit_limit</th>\n",
       "    </tr>\n",
       "  </thead>\n",
       "  <tbody>\n",
       "    <tr>\n",
       "      <th>0</th>\n",
       "      <td>1077501</td>\n",
       "      <td>1296599</td>\n",
       "      <td>5000</td>\n",
       "      <td>5000</td>\n",
       "      <td>4975.0</td>\n",
       "      <td>36 months</td>\n",
       "      <td>10.65%</td>\n",
       "      <td>162.87</td>\n",
       "      <td>B</td>\n",
       "      <td>B2</td>\n",
       "      <td>...</td>\n",
       "      <td>NaN</td>\n",
       "      <td>NaN</td>\n",
       "      <td>NaN</td>\n",
       "      <td>NaN</td>\n",
       "      <td>0.0</td>\n",
       "      <td>0.0</td>\n",
       "      <td>NaN</td>\n",
       "      <td>NaN</td>\n",
       "      <td>NaN</td>\n",
       "      <td>NaN</td>\n",
       "    </tr>\n",
       "    <tr>\n",
       "      <th>1</th>\n",
       "      <td>1077430</td>\n",
       "      <td>1314167</td>\n",
       "      <td>2500</td>\n",
       "      <td>2500</td>\n",
       "      <td>2500.0</td>\n",
       "      <td>60 months</td>\n",
       "      <td>15.27%</td>\n",
       "      <td>59.83</td>\n",
       "      <td>C</td>\n",
       "      <td>C4</td>\n",
       "      <td>...</td>\n",
       "      <td>NaN</td>\n",
       "      <td>NaN</td>\n",
       "      <td>NaN</td>\n",
       "      <td>NaN</td>\n",
       "      <td>0.0</td>\n",
       "      <td>0.0</td>\n",
       "      <td>NaN</td>\n",
       "      <td>NaN</td>\n",
       "      <td>NaN</td>\n",
       "      <td>NaN</td>\n",
       "    </tr>\n",
       "    <tr>\n",
       "      <th>2</th>\n",
       "      <td>1077175</td>\n",
       "      <td>1313524</td>\n",
       "      <td>2400</td>\n",
       "      <td>2400</td>\n",
       "      <td>2400.0</td>\n",
       "      <td>36 months</td>\n",
       "      <td>15.96%</td>\n",
       "      <td>84.33</td>\n",
       "      <td>C</td>\n",
       "      <td>C5</td>\n",
       "      <td>...</td>\n",
       "      <td>NaN</td>\n",
       "      <td>NaN</td>\n",
       "      <td>NaN</td>\n",
       "      <td>NaN</td>\n",
       "      <td>0.0</td>\n",
       "      <td>0.0</td>\n",
       "      <td>NaN</td>\n",
       "      <td>NaN</td>\n",
       "      <td>NaN</td>\n",
       "      <td>NaN</td>\n",
       "    </tr>\n",
       "    <tr>\n",
       "      <th>3</th>\n",
       "      <td>1076863</td>\n",
       "      <td>1277178</td>\n",
       "      <td>10000</td>\n",
       "      <td>10000</td>\n",
       "      <td>10000.0</td>\n",
       "      <td>36 months</td>\n",
       "      <td>13.49%</td>\n",
       "      <td>339.31</td>\n",
       "      <td>C</td>\n",
       "      <td>C1</td>\n",
       "      <td>...</td>\n",
       "      <td>NaN</td>\n",
       "      <td>NaN</td>\n",
       "      <td>NaN</td>\n",
       "      <td>NaN</td>\n",
       "      <td>0.0</td>\n",
       "      <td>0.0</td>\n",
       "      <td>NaN</td>\n",
       "      <td>NaN</td>\n",
       "      <td>NaN</td>\n",
       "      <td>NaN</td>\n",
       "    </tr>\n",
       "    <tr>\n",
       "      <th>4</th>\n",
       "      <td>1075358</td>\n",
       "      <td>1311748</td>\n",
       "      <td>3000</td>\n",
       "      <td>3000</td>\n",
       "      <td>3000.0</td>\n",
       "      <td>60 months</td>\n",
       "      <td>12.69%</td>\n",
       "      <td>67.79</td>\n",
       "      <td>B</td>\n",
       "      <td>B5</td>\n",
       "      <td>...</td>\n",
       "      <td>NaN</td>\n",
       "      <td>NaN</td>\n",
       "      <td>NaN</td>\n",
       "      <td>NaN</td>\n",
       "      <td>0.0</td>\n",
       "      <td>0.0</td>\n",
       "      <td>NaN</td>\n",
       "      <td>NaN</td>\n",
       "      <td>NaN</td>\n",
       "      <td>NaN</td>\n",
       "    </tr>\n",
       "  </tbody>\n",
       "</table>\n",
       "<p>5 rows × 111 columns</p>\n",
       "</div>"
      ],
      "text/plain": [
       "        id  member_id  loan_amnt  funded_amnt  funded_amnt_inv        term  \\\n",
       "0  1077501    1296599       5000         5000           4975.0   36 months   \n",
       "1  1077430    1314167       2500         2500           2500.0   60 months   \n",
       "2  1077175    1313524       2400         2400           2400.0   36 months   \n",
       "3  1076863    1277178      10000        10000          10000.0   36 months   \n",
       "4  1075358    1311748       3000         3000           3000.0   60 months   \n",
       "\n",
       "  int_rate  installment grade sub_grade  ... num_tl_90g_dpd_24m  \\\n",
       "0   10.65%       162.87     B        B2  ...                NaN   \n",
       "1   15.27%        59.83     C        C4  ...                NaN   \n",
       "2   15.96%        84.33     C        C5  ...                NaN   \n",
       "3   13.49%       339.31     C        C1  ...                NaN   \n",
       "4   12.69%        67.79     B        B5  ...                NaN   \n",
       "\n",
       "  num_tl_op_past_12m pct_tl_nvr_dlq  percent_bc_gt_75 pub_rec_bankruptcies  \\\n",
       "0                NaN            NaN               NaN                  0.0   \n",
       "1                NaN            NaN               NaN                  0.0   \n",
       "2                NaN            NaN               NaN                  0.0   \n",
       "3                NaN            NaN               NaN                  0.0   \n",
       "4                NaN            NaN               NaN                  0.0   \n",
       "\n",
       "  tax_liens tot_hi_cred_lim total_bal_ex_mort total_bc_limit  \\\n",
       "0       0.0             NaN               NaN            NaN   \n",
       "1       0.0             NaN               NaN            NaN   \n",
       "2       0.0             NaN               NaN            NaN   \n",
       "3       0.0             NaN               NaN            NaN   \n",
       "4       0.0             NaN               NaN            NaN   \n",
       "\n",
       "  total_il_high_credit_limit  \n",
       "0                        NaN  \n",
       "1                        NaN  \n",
       "2                        NaN  \n",
       "3                        NaN  \n",
       "4                        NaN  \n",
       "\n",
       "[5 rows x 111 columns]"
      ]
     },
     "execution_count": 3,
     "metadata": {},
     "output_type": "execute_result"
    }
   ],
   "source": [
    "df_loan.head()"
   ]
  },
  {
   "cell_type": "markdown",
   "id": "3e3efb3b",
   "metadata": {},
   "source": [
    "**Checking for null values and dropping columns having all values as null**"
   ]
  },
  {
   "cell_type": "code",
   "execution_count": 4,
   "id": "fce5b8cd",
   "metadata": {},
   "outputs": [
    {
     "name": "stdout",
     "output_type": "stream",
     "text": [
      "Below columns have null vales emp_title                      2459\n",
      "emp_length                     1075\n",
      "desc                          12942\n",
      "title                            11\n",
      "mths_since_last_delinq        25682\n",
      "                              ...  \n",
      "tax_liens                        39\n",
      "tot_hi_cred_lim               39717\n",
      "total_bal_ex_mort             39717\n",
      "total_bc_limit                39717\n",
      "total_il_high_credit_limit    39717\n",
      "Length: 68, dtype: int64\n"
     ]
    }
   ],
   "source": [
    "null_columns=df_loan.isnull().sum()\n",
    "\n",
    "null_columns=null_columns[null_columns>0]\n",
    "print(\"Below columns have null vales\",null_columns)"
   ]
  },
  {
   "cell_type": "code",
   "execution_count": 5,
   "id": "ab6981c9",
   "metadata": {},
   "outputs": [],
   "source": [
    "df_loan.dropna(axis=1,how='all',inplace=True)"
   ]
  },
  {
   "cell_type": "code",
   "execution_count": 6,
   "id": "474cd14c",
   "metadata": {},
   "outputs": [
    {
     "data": {
      "text/plain": [
       "(39717, 57)"
      ]
     },
     "execution_count": 6,
     "metadata": {},
     "output_type": "execute_result"
    }
   ],
   "source": [
    "df_loan.shape"
   ]
  },
  {
   "cell_type": "markdown",
   "id": "32eaf6e4",
   "metadata": {},
   "source": [
    "We have also removed below attributes from analysis \n",
    "\n",
    "Payment plan: Only n value in it <br>\n",
    "initial_list_status: Has single value F<br>\n",
    "collections_12_mths_ex_med- Has 0,NA only<br>\n",
    "policy_code- value of 1 only <br>\n",
    "application_type- only single value present<br>\n",
    "acc_now_delinq-Only 0 present in data<br>\n",
    "chargeoff_within_12_mths- only 0 and NA<br>\n",
    "delinq_amnt-only 0 present in data<br>\n",
    "tax_liens- 0 and NA only<br>"
   ]
  },
  {
   "cell_type": "code",
   "execution_count": 7,
   "id": "97158dba",
   "metadata": {},
   "outputs": [],
   "source": [
    "df_loan.drop(['id','emp_title','pymnt_plan', 'url','desc','title','initial_list_status','next_pymnt_d','collections_12_mths_ex_med','policy_code','application_type','acc_now_delinq','chargeoff_within_12_mths','delinq_amnt','tax_liens','last_pymnt_d',\"total_pymnt\",\"total_pymnt_inv\",\"total_rec_int\",\"total_rec_late_fee\",\"total_rec_prncp\",\"out_prncp\",\"out_prncp_inv\",\"recoveries\",\"collection_recovery_fee\",\"last_pymnt_amnt\",\"last_credit_pull_d\",\"funded_amnt_inv\"],axis=1,inplace=True)"
   ]
  },
  {
   "cell_type": "code",
   "execution_count": 8,
   "id": "f908c1b9",
   "metadata": {},
   "outputs": [
    {
     "data": {
      "text/plain": [
       "(39717, 29)"
      ]
     },
     "execution_count": 8,
     "metadata": {},
     "output_type": "execute_result"
    }
   ],
   "source": [
    "df_loan.shape"
   ]
  },
  {
   "cell_type": "code",
   "execution_count": 9,
   "id": "0ca68ca8",
   "metadata": {},
   "outputs": [
    {
     "data": {
      "text/plain": [
       "Index(['member_id', 'loan_amnt', 'funded_amnt', 'term', 'int_rate',\n",
       "       'installment', 'grade', 'sub_grade', 'emp_length', 'home_ownership',\n",
       "       'annual_inc', 'verification_status', 'issue_d', 'loan_status',\n",
       "       'purpose', 'zip_code', 'addr_state', 'dti', 'delinq_2yrs',\n",
       "       'earliest_cr_line', 'inq_last_6mths', 'mths_since_last_delinq',\n",
       "       'mths_since_last_record', 'open_acc', 'pub_rec', 'revol_bal',\n",
       "       'revol_util', 'total_acc', 'pub_rec_bankruptcies'],\n",
       "      dtype='object')"
      ]
     },
     "execution_count": 9,
     "metadata": {},
     "output_type": "execute_result"
    }
   ],
   "source": [
    "df_loan.columns"
   ]
  },
  {
   "cell_type": "code",
   "execution_count": 10,
   "id": "449468e4",
   "metadata": {},
   "outputs": [
    {
     "name": "stdout",
     "output_type": "stream",
     "text": [
      "<class 'pandas.core.frame.DataFrame'>\n",
      "RangeIndex: 39717 entries, 0 to 39716\n",
      "Data columns (total 29 columns):\n",
      " #   Column                  Non-Null Count  Dtype  \n",
      "---  ------                  --------------  -----  \n",
      " 0   member_id               39717 non-null  int64  \n",
      " 1   loan_amnt               39717 non-null  int64  \n",
      " 2   funded_amnt             39717 non-null  int64  \n",
      " 3   term                    39717 non-null  object \n",
      " 4   int_rate                39717 non-null  object \n",
      " 5   installment             39717 non-null  float64\n",
      " 6   grade                   39717 non-null  object \n",
      " 7   sub_grade               39717 non-null  object \n",
      " 8   emp_length              38642 non-null  object \n",
      " 9   home_ownership          39717 non-null  object \n",
      " 10  annual_inc              39717 non-null  float64\n",
      " 11  verification_status     39717 non-null  object \n",
      " 12  issue_d                 39717 non-null  object \n",
      " 13  loan_status             39717 non-null  object \n",
      " 14  purpose                 39717 non-null  object \n",
      " 15  zip_code                39717 non-null  object \n",
      " 16  addr_state              39717 non-null  object \n",
      " 17  dti                     39717 non-null  float64\n",
      " 18  delinq_2yrs             39717 non-null  int64  \n",
      " 19  earliest_cr_line        39717 non-null  object \n",
      " 20  inq_last_6mths          39717 non-null  int64  \n",
      " 21  mths_since_last_delinq  14035 non-null  float64\n",
      " 22  mths_since_last_record  2786 non-null   float64\n",
      " 23  open_acc                39717 non-null  int64  \n",
      " 24  pub_rec                 39717 non-null  int64  \n",
      " 25  revol_bal               39717 non-null  int64  \n",
      " 26  revol_util              39667 non-null  object \n",
      " 27  total_acc               39717 non-null  int64  \n",
      " 28  pub_rec_bankruptcies    39020 non-null  float64\n",
      "dtypes: float64(6), int64(9), object(14)\n",
      "memory usage: 8.8+ MB\n"
     ]
    }
   ],
   "source": [
    "df_loan.info()"
   ]
  },
  {
   "cell_type": "markdown",
   "id": "1bb9d604",
   "metadata": {},
   "source": [
    "**Checking for null values and dropping columns in null values is more than 40%**"
   ]
  },
  {
   "cell_type": "code",
   "execution_count": null,
   "id": "7bc33740",
   "metadata": {},
   "outputs": [],
   "source": [
    "df_loan.isnull().sum()"
   ]
  },
  {
   "cell_type": "code",
   "execution_count": null,
   "id": "7dcc7aa6",
   "metadata": {},
   "outputs": [],
   "source": [
    "df_loan.drop(['mths_since_last_delinq','mths_since_last_record'],axis=1,inplace=True)"
   ]
  },
  {
   "cell_type": "markdown",
   "id": "108d1e22",
   "metadata": {},
   "source": [
    "**Data Cleaning** "
   ]
  },
  {
   "cell_type": "code",
   "execution_count": null,
   "id": "a7d1b848",
   "metadata": {},
   "outputs": [],
   "source": [
    "df_loan['emp_length']=df_loan['emp_length'].str.replace(\"years\",\"\")\n",
    "df_loan['emp_length']=df_loan['emp_length'].str.replace(\"year\",\"\")\n",
    "df_loan['emp_length']=df_loan['emp_length'].str.replace(\"< 1\",\"0\")\n",
    "df_loan['emp_length']=df_loan['emp_length'].str.replace('10+ ', '10')\n"
   ]
  },
  {
   "cell_type": "code",
   "execution_count": null,
   "id": "99d1de43",
   "metadata": {},
   "outputs": [],
   "source": [
    "df_loan['emp_length'].fillna(df_loan['emp_length'].median(),inplace=True)"
   ]
  },
  {
   "cell_type": "code",
   "execution_count": null,
   "id": "098ef141",
   "metadata": {},
   "outputs": [],
   "source": [
    "df_loan['revol_util']=df_loan['revol_util'].str.replace(\"%\",\"\")\n"
   ]
  },
  {
   "cell_type": "code",
   "execution_count": null,
   "id": "12643520",
   "metadata": {},
   "outputs": [],
   "source": [
    "df_loan['revol_util'].astype(float)"
   ]
  },
  {
   "cell_type": "code",
   "execution_count": null,
   "id": "ac9d9b35",
   "metadata": {},
   "outputs": [],
   "source": [
    "df_loan.dropna(subset=['revol_util'],inplace=True,axis=0)"
   ]
  },
  {
   "cell_type": "code",
   "execution_count": null,
   "id": "282b704e",
   "metadata": {},
   "outputs": [],
   "source": [
    "df_loan.dropna(subset=['last_credit_pull_d'],axis=0,inplace=True)"
   ]
  },
  {
   "cell_type": "code",
   "execution_count": null,
   "id": "60dc8da6",
   "metadata": {},
   "outputs": [],
   "source": [
    "df_loan['pub_rec_bankruptcies'].fillna(0,inplace=True)\n"
   ]
  },
  {
   "cell_type": "code",
   "execution_count": null,
   "id": "e96406b8",
   "metadata": {},
   "outputs": [],
   "source": [
    "df_loan.shape"
   ]
  },
  {
   "cell_type": "code",
   "execution_count": null,
   "id": "229042fb",
   "metadata": {},
   "outputs": [],
   "source": [
    "df_loan.isnull().sum()"
   ]
  },
  {
   "cell_type": "code",
   "execution_count": null,
   "id": "af5dd1c3",
   "metadata": {},
   "outputs": [],
   "source": [
    "df_loan.duplicated().sum()"
   ]
  },
  {
   "cell_type": "markdown",
   "id": "00466729",
   "metadata": {},
   "source": [
    "**We have cleaned the data and found out that no null or duplicate values are present in data and final\n",
    "dataframe has 39 columns which would be used for further analysis.**"
   ]
  },
  {
   "cell_type": "code",
   "execution_count": 15,
   "id": "9bb30bd1",
   "metadata": {},
   "outputs": [],
   "source": [
    "cat_cols=[\"member_id\",\"term\",\"grade\",\"sub_grade\",\"home_ownership\",\"verification_status\",\"issue_d\",\"loan_status\"]\n",
    "num_cols=[\"loan_amnt\",\"funded_amnt\",\"installment\",\"annual_inc\",'int_rate','revol_bal','revol_util','pub_rec_bankruptcies','inq_last_6mths','open_acc']"
   ]
  },
  {
   "cell_type": "code",
   "execution_count": 16,
   "id": "77921c7c",
   "metadata": {},
   "outputs": [],
   "source": [
    "num_tushar=[\"dti\",\"total_acc\",\"mths_since_last_delinq\",\"mths_since_last_record\"]\n",
    "cat_tushar=[\"purpose\",\"zip_code\",\"addr_state\",\"emp_length\",\"delinq_2yrs\",\"earliest_cr_line\",'pub_rec']"
   ]
  },
  {
   "cell_type": "code",
   "execution_count": 17,
   "id": "fe7bfe2c",
   "metadata": {},
   "outputs": [
    {
     "name": "stdout",
     "output_type": "stream",
     "text": [
      "29\n"
     ]
    }
   ],
   "source": [
    "total = len(cat_cols) + len(num_cols) + len(num_tushar) + len(cat_tushar)\n",
    "print(total)"
   ]
  },
  {
   "cell_type": "code",
   "execution_count": null,
   "id": "340ef487",
   "metadata": {},
   "outputs": [],
   "source": [
    "df_loan['loan_status'].value_counts()"
   ]
  },
  {
   "cell_type": "code",
   "execution_count": null,
   "id": "53431a6a",
   "metadata": {},
   "outputs": [],
   "source": [
    "loan_status_per=df_loan['loan_status'].value_counts(normalize=True)*100\n",
    "print(loan_status_per)\n"
   ]
  },
  {
   "cell_type": "markdown",
   "id": "9e0c46cb",
   "metadata": {},
   "source": [
    "# Univaraite analysis"
   ]
  },
  {
   "cell_type": "markdown",
   "id": "db210da1",
   "metadata": {},
   "source": [
    "**Summary Statistics for Numerical coulmns**"
   ]
  },
  {
   "cell_type": "code",
   "execution_count": null,
   "id": "988f9325",
   "metadata": {},
   "outputs": [],
   "source": [
    "df_loan[num_cols].describe()"
   ]
  },
  {
   "cell_type": "code",
   "execution_count": null,
   "id": "ab378200",
   "metadata": {},
   "outputs": [],
   "source": [
    "plt.figure(figsize=(5,6))\n",
    "plt.pie(loan_status_per, autopct='%1.2f%%',labels=loan_status_per.index, startangle=140,textprops={'fontsize': 16})\n",
    "plt.show()\n"
   ]
  },
  {
   "cell_type": "code",
   "execution_count": null,
   "id": "51d8dc57",
   "metadata": {},
   "outputs": [],
   "source": [
    "df_filter=df_loan[df_loan['loan_status'] != 'Current']"
   ]
  },
  {
   "cell_type": "markdown",
   "id": "6ff235db",
   "metadata": {},
   "source": [
    "**As we proceed with the analysis, we are excluding borrowers whose loan status is marked as \"active.\" This decision is driven by our focus on identifying defaulters so we are excluding users with loans_status='current'**"
   ]
  },
  {
   "cell_type": "code",
   "execution_count": null,
   "id": "d2e05b8b",
   "metadata": {},
   "outputs": [],
   "source": [
    "df_num=df_filter[[\"loan_amnt\",\"funded_amnt\",\"funded_amnt_inv\",\"installment\",\"annual_inc\",\"total_acc\",\"total_pymnt\",\"total_pymnt_inv\",\"total_rec_int\",\"total_rec_late_fee\",\"total_rec_prncp\"]]"
   ]
  },
  {
   "cell_type": "code",
   "execution_count": null,
   "id": "559d53cf",
   "metadata": {},
   "outputs": [],
   "source": [
    "for column in df_num.columns:\n",
    "    sns.boxplot(df_num[column])\n",
    "    plt.show()\n",
    "#plt.subplot(1,2,1)\n",
    "   "
   ]
  },
  {
   "cell_type": "markdown",
   "id": "d02b1445",
   "metadata": {},
   "source": [
    "We can see that in all numerical columns outliers are present "
   ]
  },
  {
   "cell_type": "code",
   "execution_count": null,
   "id": "041a2df0",
   "metadata": {},
   "outputs": [],
   "source": [
    "sns.countplot(x=df_filter['home_ownership'])\n",
    "plt.title('Home Ownership Distribution')\n",
    "plt.ylabel('Count of Borrowers')\n",
    "plt.show()\n"
   ]
  },
  {
   "cell_type": "code",
   "execution_count": null,
   "id": "d95262c8",
   "metadata": {},
   "outputs": [],
   "source": [
    "df_filter['year']=pd.to_datetime(df_filter['issue_d'],format='%b-%y').dt.year"
   ]
  },
  {
   "cell_type": "code",
   "execution_count": null,
   "id": "cf96f124",
   "metadata": {},
   "outputs": [],
   "source": [
    "df_filter['month']=pd.to_datetime(df_filter['issue_d'],format='%b-%y').dt.month"
   ]
  },
  {
   "cell_type": "code",
   "execution_count": null,
   "id": "112c9920",
   "metadata": {},
   "outputs": [],
   "source": [
    "sns.countplot(x=df_filter['year'])\n",
    "plt.show()"
   ]
  },
  {
   "cell_type": "markdown",
   "id": "42593649",
   "metadata": {},
   "source": [
    "**Graph shows that rent,mortgage categories are having highest number of loan borrowers**"
   ]
  },
  {
   "cell_type": "code",
   "execution_count": null,
   "id": "cf94aea0",
   "metadata": {},
   "outputs": [],
   "source": [
    "sns.countplot(x=df_filter['month'])\n",
    "plt.show()"
   ]
  },
  {
   "cell_type": "markdown",
   "id": "eb564f8d",
   "metadata": {},
   "source": [
    "**Graph shows that there is increase in number of borrowers over the year** "
   ]
  },
  {
   "cell_type": "markdown",
   "id": "629953c3",
   "metadata": {},
   "source": [
    "# Bivariate Analysis"
   ]
  },
  {
   "cell_type": "code",
   "execution_count": null,
   "id": "0a8b57a5",
   "metadata": {},
   "outputs": [],
   "source": [
    "sns.barplot(x=df_filter['loan_status'],y=df_filter['annual_inc'],hue=df_filter['term'])\n",
    "plt.yscale('log')\n",
    "plt.title('Income-Term wise loan status Distribution')\n",
    "plt.ylabel('Annual Income')\n",
    "plt.show()"
   ]
  },
  {
   "cell_type": "code",
   "execution_count": null,
   "id": "5f703443",
   "metadata": {},
   "outputs": [],
   "source": [
    "sns.barplot(x=df_filter['grade'],y=df_filter['annual_inc'],hue=df_filter['loan_status'])\n",
    "plt.yscale('log')\n",
    "plt.title('Income-Grade wise loan status Distribution')\n",
    "plt.ylabel('Annual Income')\n",
    "\n",
    "plt.show()\n"
   ]
  },
  {
   "cell_type": "code",
   "execution_count": null,
   "id": "58c00622",
   "metadata": {},
   "outputs": [],
   "source": [
    "import seaborn as sns\n",
    "import matplotlib.pyplot as plt\n",
    "\n",
    "sns.barplot(x='home_ownership',y='loan_amnt', hue='loan_status', data=df_filter)\n",
    "#plt.yscale('log')\n",
    "plt.title('Term and home ownershipwise Loan amount Distribution')\n",
    "plt.ylabel('loan amount')\n",
    "plt.show()"
   ]
  },
  {
   "cell_type": "code",
   "execution_count": null,
   "id": "19f0dc90",
   "metadata": {},
   "outputs": [],
   "source": [
    "import seaborn as sns\n",
    "import matplotlib.pyplot as plt\n",
    "\n",
    "sns.barplot(x='verification_status',y='loan_amnt', hue='loan_status', data=df_filter)\n",
    "#plt.yscale('log')\n",
    "plt.title('Verfications status Vs Loan amount')\n",
    "plt.ylabel('loan amount')\n",
    "plt.show()"
   ]
  },
  {
   "cell_type": "code",
   "execution_count": null,
   "id": "d6735e29",
   "metadata": {},
   "outputs": [],
   "source": []
  },
  {
   "cell_type": "code",
   "execution_count": null,
   "id": "63d4f024",
   "metadata": {},
   "outputs": [],
   "source": [
    "order = df_loan.groupby('purpose')['loan_amnt'].median().sort_values().index\n",
    "\n",
    "# Plot the horizontal bar plot\n",
    "sns.barplot(y=df_loan['purpose'], x=df_loan['loan_amnt'], order=order)\n",
    "plt.xlabel('Loan Amount')\n",
    "plt.ylabel('Purpose')\n",
    "plt.title('Loan Amount by Purpose (Ascending Order)')\n",
    "plt.show()"
   ]
  },
  {
   "cell_type": "code",
   "execution_count": null,
   "id": "298afbf7",
   "metadata": {},
   "outputs": [],
   "source": [
    "verification_count=df_loan.groupby(['verification_status','member_id']).nunique()\n"
   ]
  },
  {
   "cell_type": "code",
   "execution_count": null,
   "id": "8d16317b",
   "metadata": {},
   "outputs": [],
   "source": [
    "df_loan['loan_status'].value_counts()"
   ]
  },
  {
   "cell_type": "code",
   "execution_count": null,
   "id": "6fa9a3da",
   "metadata": {},
   "outputs": [],
   "source": [
    "loan_status_per=df_loan['loan_status'].value_counts(normalize=True)*100"
   ]
  },
  {
   "cell_type": "code",
   "execution_count": null,
   "id": "d4c713bc",
   "metadata": {},
   "outputs": [],
   "source": [
    "plt.figure(figsize=(5,6))\n",
    "plt.pie(loan_status_per, autopct='%1.2f%%',labels=loan_status_per.index, startangle=140,textprops={'fontsize': 16})\n",
    "plt.show()\n"
   ]
  },
  {
   "cell_type": "code",
   "execution_count": null,
   "id": "6df66e73",
   "metadata": {},
   "outputs": [],
   "source": [
    "sns.histplot(data=df_loan,x='loan_status')"
   ]
  },
  {
   "cell_type": "code",
   "execution_count": null,
   "id": "07dea4b8",
   "metadata": {},
   "outputs": [],
   "source": [
    "sns.histplot(data=df_loan,x='verification_status',hue='loan_status')"
   ]
  },
  {
   "cell_type": "code",
   "execution_count": null,
   "id": "af23f4d4",
   "metadata": {},
   "outputs": [],
   "source": [
    "sns.countplot(data=df_loan,x='verification_status',hue='loan_status')"
   ]
  },
  {
   "cell_type": "code",
   "execution_count": null,
   "id": "a4d1b1ed",
   "metadata": {},
   "outputs": [],
   "source": [
    "#sns.barplot(x=verification_count.index,y=verification_count.values,palette=\"pastel\")\n",
    "\n",
    "#plt.xlabel('Verification Status')\n",
    "#plt.ylabel('Number of Unique Users')\n",
    "#plt.title('Number of Unique Users by Verification Status')\n",
    "#plt.show()"
   ]
  },
  {
   "cell_type": "code",
   "execution_count": null,
   "id": "c738c818",
   "metadata": {},
   "outputs": [],
   "source": [
    "df_filter=df_loan[df_loan['loan_status'] != 'Current']"
   ]
  },
  {
   "cell_type": "code",
   "execution_count": null,
   "id": "acb84e2e",
   "metadata": {},
   "outputs": [],
   "source": [
    "df_filter.head()"
   ]
  },
  {
   "cell_type": "code",
   "execution_count": null,
   "id": "89311727",
   "metadata": {},
   "outputs": [],
   "source": []
  },
  {
   "cell_type": "code",
   "execution_count": null,
   "id": "2a8ae361",
   "metadata": {},
   "outputs": [],
   "source": []
  }
 ],
 "metadata": {
  "kernelspec": {
   "display_name": "Python 3 (ipykernel)",
   "language": "python",
   "name": "python3"
  },
  "language_info": {
   "codemirror_mode": {
    "name": "ipython",
    "version": 3
   },
   "file_extension": ".py",
   "mimetype": "text/x-python",
   "name": "python",
   "nbconvert_exporter": "python",
   "pygments_lexer": "ipython3",
   "version": "3.11.5"
  }
 },
 "nbformat": 4,
 "nbformat_minor": 5
}
