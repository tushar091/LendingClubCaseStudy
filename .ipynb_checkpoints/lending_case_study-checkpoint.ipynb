{
 "cells": [
  {
   "cell_type": "code",
   "execution_count": 43,
   "id": "2e10231d",
   "metadata": {},
   "outputs": [],
   "source": [
    "import numpy as np\n",
    "import pandas as pd\n",
    "import seaborn as sns\n",
    "import matplotlib.pyplot as plt\n",
    "import warnings\n",
    "warnings.filterwarnings('ignore')"
   ]
  },
  {
   "cell_type": "code",
   "execution_count": 44,
   "id": "cb3bc1f8",
   "metadata": {},
   "outputs": [],
   "source": [
    "df_loan=pd.read_csv('loan.csv')"
   ]
  },
  {
   "cell_type": "markdown",
   "id": "781921fd",
   "metadata": {},
   "source": [
    "# Data Preprocessing"
   ]
  },
  {
   "cell_type": "markdown",
   "id": "2550f809",
   "metadata": {},
   "source": [
    "**Analyzing raw data: Check the first 5 rows.**"
   ]
  },
  {
   "cell_type": "code",
   "execution_count": 45,
   "id": "18fe4d75",
   "metadata": {},
   "outputs": [
    {
     "data": {
      "text/html": [
       "<div>\n",
       "<style scoped>\n",
       "    .dataframe tbody tr th:only-of-type {\n",
       "        vertical-align: middle;\n",
       "    }\n",
       "\n",
       "    .dataframe tbody tr th {\n",
       "        vertical-align: top;\n",
       "    }\n",
       "\n",
       "    .dataframe thead th {\n",
       "        text-align: right;\n",
       "    }\n",
       "</style>\n",
       "<table border=\"1\" class=\"dataframe\">\n",
       "  <thead>\n",
       "    <tr style=\"text-align: right;\">\n",
       "      <th></th>\n",
       "      <th>id</th>\n",
       "      <th>member_id</th>\n",
       "      <th>loan_amnt</th>\n",
       "      <th>funded_amnt</th>\n",
       "      <th>funded_amnt_inv</th>\n",
       "      <th>term</th>\n",
       "      <th>int_rate</th>\n",
       "      <th>installment</th>\n",
       "      <th>grade</th>\n",
       "      <th>sub_grade</th>\n",
       "      <th>...</th>\n",
       "      <th>num_tl_90g_dpd_24m</th>\n",
       "      <th>num_tl_op_past_12m</th>\n",
       "      <th>pct_tl_nvr_dlq</th>\n",
       "      <th>percent_bc_gt_75</th>\n",
       "      <th>pub_rec_bankruptcies</th>\n",
       "      <th>tax_liens</th>\n",
       "      <th>tot_hi_cred_lim</th>\n",
       "      <th>total_bal_ex_mort</th>\n",
       "      <th>total_bc_limit</th>\n",
       "      <th>total_il_high_credit_limit</th>\n",
       "    </tr>\n",
       "  </thead>\n",
       "  <tbody>\n",
       "    <tr>\n",
       "      <th>0</th>\n",
       "      <td>1077501</td>\n",
       "      <td>1296599</td>\n",
       "      <td>5000</td>\n",
       "      <td>5000</td>\n",
       "      <td>4975.0</td>\n",
       "      <td>36 months</td>\n",
       "      <td>10.65%</td>\n",
       "      <td>162.87</td>\n",
       "      <td>B</td>\n",
       "      <td>B2</td>\n",
       "      <td>...</td>\n",
       "      <td>NaN</td>\n",
       "      <td>NaN</td>\n",
       "      <td>NaN</td>\n",
       "      <td>NaN</td>\n",
       "      <td>0.0</td>\n",
       "      <td>0.0</td>\n",
       "      <td>NaN</td>\n",
       "      <td>NaN</td>\n",
       "      <td>NaN</td>\n",
       "      <td>NaN</td>\n",
       "    </tr>\n",
       "    <tr>\n",
       "      <th>1</th>\n",
       "      <td>1077430</td>\n",
       "      <td>1314167</td>\n",
       "      <td>2500</td>\n",
       "      <td>2500</td>\n",
       "      <td>2500.0</td>\n",
       "      <td>60 months</td>\n",
       "      <td>15.27%</td>\n",
       "      <td>59.83</td>\n",
       "      <td>C</td>\n",
       "      <td>C4</td>\n",
       "      <td>...</td>\n",
       "      <td>NaN</td>\n",
       "      <td>NaN</td>\n",
       "      <td>NaN</td>\n",
       "      <td>NaN</td>\n",
       "      <td>0.0</td>\n",
       "      <td>0.0</td>\n",
       "      <td>NaN</td>\n",
       "      <td>NaN</td>\n",
       "      <td>NaN</td>\n",
       "      <td>NaN</td>\n",
       "    </tr>\n",
       "    <tr>\n",
       "      <th>2</th>\n",
       "      <td>1077175</td>\n",
       "      <td>1313524</td>\n",
       "      <td>2400</td>\n",
       "      <td>2400</td>\n",
       "      <td>2400.0</td>\n",
       "      <td>36 months</td>\n",
       "      <td>15.96%</td>\n",
       "      <td>84.33</td>\n",
       "      <td>C</td>\n",
       "      <td>C5</td>\n",
       "      <td>...</td>\n",
       "      <td>NaN</td>\n",
       "      <td>NaN</td>\n",
       "      <td>NaN</td>\n",
       "      <td>NaN</td>\n",
       "      <td>0.0</td>\n",
       "      <td>0.0</td>\n",
       "      <td>NaN</td>\n",
       "      <td>NaN</td>\n",
       "      <td>NaN</td>\n",
       "      <td>NaN</td>\n",
       "    </tr>\n",
       "    <tr>\n",
       "      <th>3</th>\n",
       "      <td>1076863</td>\n",
       "      <td>1277178</td>\n",
       "      <td>10000</td>\n",
       "      <td>10000</td>\n",
       "      <td>10000.0</td>\n",
       "      <td>36 months</td>\n",
       "      <td>13.49%</td>\n",
       "      <td>339.31</td>\n",
       "      <td>C</td>\n",
       "      <td>C1</td>\n",
       "      <td>...</td>\n",
       "      <td>NaN</td>\n",
       "      <td>NaN</td>\n",
       "      <td>NaN</td>\n",
       "      <td>NaN</td>\n",
       "      <td>0.0</td>\n",
       "      <td>0.0</td>\n",
       "      <td>NaN</td>\n",
       "      <td>NaN</td>\n",
       "      <td>NaN</td>\n",
       "      <td>NaN</td>\n",
       "    </tr>\n",
       "    <tr>\n",
       "      <th>4</th>\n",
       "      <td>1075358</td>\n",
       "      <td>1311748</td>\n",
       "      <td>3000</td>\n",
       "      <td>3000</td>\n",
       "      <td>3000.0</td>\n",
       "      <td>60 months</td>\n",
       "      <td>12.69%</td>\n",
       "      <td>67.79</td>\n",
       "      <td>B</td>\n",
       "      <td>B5</td>\n",
       "      <td>...</td>\n",
       "      <td>NaN</td>\n",
       "      <td>NaN</td>\n",
       "      <td>NaN</td>\n",
       "      <td>NaN</td>\n",
       "      <td>0.0</td>\n",
       "      <td>0.0</td>\n",
       "      <td>NaN</td>\n",
       "      <td>NaN</td>\n",
       "      <td>NaN</td>\n",
       "      <td>NaN</td>\n",
       "    </tr>\n",
       "  </tbody>\n",
       "</table>\n",
       "<p>5 rows × 111 columns</p>\n",
       "</div>"
      ],
      "text/plain": [
       "        id  member_id  loan_amnt  funded_amnt  funded_amnt_inv        term  \\\n",
       "0  1077501    1296599       5000         5000           4975.0   36 months   \n",
       "1  1077430    1314167       2500         2500           2500.0   60 months   \n",
       "2  1077175    1313524       2400         2400           2400.0   36 months   \n",
       "3  1076863    1277178      10000        10000          10000.0   36 months   \n",
       "4  1075358    1311748       3000         3000           3000.0   60 months   \n",
       "\n",
       "  int_rate  installment grade sub_grade  ... num_tl_90g_dpd_24m  \\\n",
       "0   10.65%       162.87     B        B2  ...                NaN   \n",
       "1   15.27%        59.83     C        C4  ...                NaN   \n",
       "2   15.96%        84.33     C        C5  ...                NaN   \n",
       "3   13.49%       339.31     C        C1  ...                NaN   \n",
       "4   12.69%        67.79     B        B5  ...                NaN   \n",
       "\n",
       "  num_tl_op_past_12m pct_tl_nvr_dlq  percent_bc_gt_75 pub_rec_bankruptcies  \\\n",
       "0                NaN            NaN               NaN                  0.0   \n",
       "1                NaN            NaN               NaN                  0.0   \n",
       "2                NaN            NaN               NaN                  0.0   \n",
       "3                NaN            NaN               NaN                  0.0   \n",
       "4                NaN            NaN               NaN                  0.0   \n",
       "\n",
       "  tax_liens tot_hi_cred_lim total_bal_ex_mort total_bc_limit  \\\n",
       "0       0.0             NaN               NaN            NaN   \n",
       "1       0.0             NaN               NaN            NaN   \n",
       "2       0.0             NaN               NaN            NaN   \n",
       "3       0.0             NaN               NaN            NaN   \n",
       "4       0.0             NaN               NaN            NaN   \n",
       "\n",
       "  total_il_high_credit_limit  \n",
       "0                        NaN  \n",
       "1                        NaN  \n",
       "2                        NaN  \n",
       "3                        NaN  \n",
       "4                        NaN  \n",
       "\n",
       "[5 rows x 111 columns]"
      ]
     },
     "execution_count": 45,
     "metadata": {},
     "output_type": "execute_result"
    }
   ],
   "source": [
    "df_loan.head()"
   ]
  },
  {
   "cell_type": "markdown",
   "id": "3e3efb3b",
   "metadata": {},
   "source": [
    "**Checking for null values and dropping columns having all values as null**"
   ]
  },
  {
   "cell_type": "code",
   "execution_count": 46,
   "id": "fce5b8cd",
   "metadata": {},
   "outputs": [
    {
     "name": "stdout",
     "output_type": "stream",
     "text": [
      "Below columns have null vales \n",
      " emp_title                      2459\n",
      "emp_length                     1075\n",
      "desc                          12942\n",
      "title                            11\n",
      "mths_since_last_delinq        25682\n",
      "                              ...  \n",
      "tax_liens                        39\n",
      "tot_hi_cred_lim               39717\n",
      "total_bal_ex_mort             39717\n",
      "total_bc_limit                39717\n",
      "total_il_high_credit_limit    39717\n",
      "Length: 68, dtype: int64\n"
     ]
    }
   ],
   "source": [
    "null_columns=df_loan.isnull().sum()\n",
    "\n",
    "null_columns=null_columns[null_columns>0]\n",
    "print(\"Below columns have null vales \\n\",null_columns)"
   ]
  },
  {
   "cell_type": "code",
   "execution_count": 39,
   "id": "ab6981c9",
   "metadata": {},
   "outputs": [],
   "source": [
    "df_loan.dropna(axis=1,how='all',inplace=True)"
   ]
  },
  {
   "cell_type": "code",
   "execution_count": 40,
   "id": "474cd14c",
   "metadata": {},
   "outputs": [
    {
     "data": {
      "text/plain": [
       "(39717, 57)"
      ]
     },
     "execution_count": 40,
     "metadata": {},
     "output_type": "execute_result"
    }
   ],
   "source": [
    "df_loan.shape"
   ]
  },
  {
   "cell_type": "markdown",
   "id": "32eaf6e4",
   "metadata": {},
   "source": [
    "### We have removed few attributes from analysis\n",
    "\n",
    "#### these attributes either have single values or are used post loan dis\n",
    "\n",
    "- Payment plan: Only n value in it <br>\n",
    "- initial_list_status: Has single value F<br>\n",
    "- collections_12_mths_ex_med- Has 0,NA only<br>\n",
    "- policy_code- value of 1 only <br>\n",
    "- application_type- only single value present<br>\n",
    "- acc_now_delinq-Only 0 present in data<br>\n",
    "- chargeoff_within_12_mths- only 0 and NA<br>\n",
    "- delinq_amnt-only 0 present in data<br>\n",
    "- tax_liens- 0 and NA only<br>"
   ]
  },
  {
   "cell_type": "code",
   "execution_count": 41,
   "id": "97158dba",
   "metadata": {},
   "outputs": [],
   "source": [
    "df_loan.drop(['id','emp_title','pymnt_plan', 'url','desc','title','initial_list_status','next_pymnt_d','collections_12_mths_ex_med','policy_code','application_type','acc_now_delinq','chargeoff_within_12_mths','delinq_amnt','tax_liens','last_pymnt_d',\"total_pymnt\",\"total_pymnt_inv\",\"total_rec_int\",\"total_rec_late_fee\",\"total_rec_prncp\",\"out_prncp\",\"out_prncp_inv\",\"recoveries\",\"collection_recovery_fee\",\"last_pymnt_amnt\",\"last_credit_pull_d\",\"funded_amnt_inv\"],axis=1,inplace=True)"
   ]
  },
  {
   "cell_type": "code",
   "execution_count": 42,
   "id": "449468e4",
   "metadata": {},
   "outputs": [
    {
     "name": "stdout",
     "output_type": "stream",
     "text": [
      "<class 'pandas.core.frame.DataFrame'>\n",
      "RangeIndex: 39717 entries, 0 to 39716\n",
      "Data columns (total 29 columns):\n",
      " #   Column                  Non-Null Count  Dtype  \n",
      "---  ------                  --------------  -----  \n",
      " 0   member_id               39717 non-null  int64  \n",
      " 1   loan_amnt               39717 non-null  int64  \n",
      " 2   funded_amnt             39717 non-null  int64  \n",
      " 3   term                    39717 non-null  object \n",
      " 4   int_rate                39717 non-null  object \n",
      " 5   installment             39717 non-null  float64\n",
      " 6   grade                   39717 non-null  object \n",
      " 7   sub_grade               39717 non-null  object \n",
      " 8   emp_length              38642 non-null  object \n",
      " 9   home_ownership          39717 non-null  object \n",
      " 10  annual_inc              39717 non-null  float64\n",
      " 11  verification_status     39717 non-null  object \n",
      " 12  issue_d                 39717 non-null  object \n",
      " 13  loan_status             39717 non-null  object \n",
      " 14  purpose                 39717 non-null  object \n",
      " 15  zip_code                39717 non-null  object \n",
      " 16  addr_state              39717 non-null  object \n",
      " 17  dti                     39717 non-null  float64\n",
      " 18  delinq_2yrs             39717 non-null  int64  \n",
      " 19  earliest_cr_line        39717 non-null  object \n",
      " 20  inq_last_6mths          39717 non-null  int64  \n",
      " 21  mths_since_last_delinq  14035 non-null  float64\n",
      " 22  mths_since_last_record  2786 non-null   float64\n",
      " 23  open_acc                39717 non-null  int64  \n",
      " 24  pub_rec                 39717 non-null  int64  \n",
      " 25  revol_bal               39717 non-null  int64  \n",
      " 26  revol_util              39667 non-null  object \n",
      " 27  total_acc               39717 non-null  int64  \n",
      " 28  pub_rec_bankruptcies    39020 non-null  float64\n",
      "dtypes: float64(6), int64(9), object(14)\n",
      "memory usage: 8.8+ MB\n"
     ]
    }
   ],
   "source": [
    "df_loan.info()"
   ]
  },
  {
   "cell_type": "markdown",
   "id": "1bb9d604",
   "metadata": {},
   "source": [
    "**Checking for null values and dropping columns in null values is more than 40%**"
   ]
  },
  {
   "cell_type": "code",
   "execution_count": 43,
   "id": "7bc33740",
   "metadata": {},
   "outputs": [
    {
     "data": {
      "text/plain": [
       "member_id                     0\n",
       "loan_amnt                     0\n",
       "funded_amnt                   0\n",
       "term                          0\n",
       "int_rate                      0\n",
       "installment                   0\n",
       "grade                         0\n",
       "sub_grade                     0\n",
       "emp_length                 1075\n",
       "home_ownership                0\n",
       "annual_inc                    0\n",
       "verification_status           0\n",
       "issue_d                       0\n",
       "loan_status                   0\n",
       "purpose                       0\n",
       "zip_code                      0\n",
       "addr_state                    0\n",
       "dti                           0\n",
       "delinq_2yrs                   0\n",
       "earliest_cr_line              0\n",
       "inq_last_6mths                0\n",
       "mths_since_last_delinq    25682\n",
       "mths_since_last_record    36931\n",
       "open_acc                      0\n",
       "pub_rec                       0\n",
       "revol_bal                     0\n",
       "revol_util                   50\n",
       "total_acc                     0\n",
       "pub_rec_bankruptcies        697\n",
       "dtype: int64"
      ]
     },
     "execution_count": 43,
     "metadata": {},
     "output_type": "execute_result"
    }
   ],
   "source": [
    "df_loan.isnull().sum()"
   ]
  },
  {
   "cell_type": "code",
   "execution_count": 44,
   "id": "7dcc7aa6",
   "metadata": {},
   "outputs": [],
   "source": [
    "df_loan.drop(['mths_since_last_delinq','mths_since_last_record'],axis=1,inplace=True)"
   ]
  },
  {
   "cell_type": "markdown",
   "id": "b517fd23",
   "metadata": {},
   "source": [
    "# Data Cleaning"
   ]
  },
  {
   "cell_type": "markdown",
   "id": "108d1e22",
   "metadata": {},
   "source": [
    "**We have done data cleaning for emp_length,revol_util,int_rate and also converted them to desriable data format.** "
   ]
  },
  {
   "cell_type": "code",
   "execution_count": 45,
   "id": "a7d1b848",
   "metadata": {},
   "outputs": [],
   "source": [
    "df_loan['emp_length']=df_loan['emp_length'].str.replace(\"years\",\"\")\n",
    "df_loan['emp_length']=df_loan['emp_length'].str.replace(\"year\",\"\")\n",
    "df_loan['emp_length']=df_loan['emp_length'].str.replace(\"< 1\",\"0\")\n",
    "#df_loan['emp_length']=df_loan['emp_length'].str.replace('10+ ', '10')\n",
    "df_loan['emp_length']=df_loan['emp_length'].str.replace(r'(^.*10+.*$)', '10')\n"
   ]
  },
  {
   "cell_type": "code",
   "execution_count": 46,
   "id": "f83a309a",
   "metadata": {},
   "outputs": [],
   "source": [
    "df_loan['emp_length'].fillna(df_loan['emp_length'].median(),inplace=True)"
   ]
  },
  {
   "cell_type": "code",
   "execution_count": 47,
   "id": "9470ba8a",
   "metadata": {},
   "outputs": [],
   "source": [
    "df_loan['revol_util']=df_loan['revol_util'].str.replace(\"%\",\"\")"
   ]
  },
  {
   "cell_type": "code",
   "execution_count": 48,
   "id": "c4d00c80",
   "metadata": {},
   "outputs": [
    {
     "data": {
      "text/plain": [
       "0        977\n",
       "0.20      63\n",
       "63        62\n",
       "40.70     58\n",
       "66.70     58\n",
       "        ... \n",
       "25.74      1\n",
       "47.36      1\n",
       "24.65      1\n",
       "10.61      1\n",
       "7.28       1\n",
       "Name: revol_util, Length: 1089, dtype: int64"
      ]
     },
     "execution_count": 48,
     "metadata": {},
     "output_type": "execute_result"
    }
   ],
   "source": [
    "df_loan['revol_util'].value_counts()"
   ]
  },
  {
   "cell_type": "code",
   "execution_count": 49,
   "id": "c229d56d",
   "metadata": {},
   "outputs": [],
   "source": [
    "df_loan.dropna(subset=['revol_util'],inplace=True,axis=0)"
   ]
  },
  {
   "cell_type": "code",
   "execution_count": 50,
   "id": "7eba16f8",
   "metadata": {},
   "outputs": [],
   "source": [
    "df_loan['revol_util']=df_loan['revol_util'].astype(float)"
   ]
  },
  {
   "cell_type": "code",
   "execution_count": 51,
   "id": "5c797293",
   "metadata": {},
   "outputs": [],
   "source": [
    "df_loan['int_rate']=df_loan['int_rate'].str.replace(\"%\",\"\")"
   ]
  },
  {
   "cell_type": "code",
   "execution_count": 52,
   "id": "6f5aa0c5",
   "metadata": {},
   "outputs": [],
   "source": [
    "df_loan['int_rate']=df_loan['int_rate'].astype(float)"
   ]
  },
  {
   "cell_type": "code",
   "execution_count": 53,
   "id": "60dc8da6",
   "metadata": {},
   "outputs": [],
   "source": [
    "df_loan['pub_rec_bankruptcies'].fillna(0,inplace=True)\n"
   ]
  },
  {
   "cell_type": "markdown",
   "id": "123d56cf",
   "metadata": {},
   "source": [
    "** Checking for shape and datatype of dataframe after cleaning and pre processing of data**"
   ]
  },
  {
   "cell_type": "code",
   "execution_count": 54,
   "id": "e96406b8",
   "metadata": {},
   "outputs": [
    {
     "data": {
      "text/plain": [
       "(39667, 27)"
      ]
     },
     "execution_count": 54,
     "metadata": {},
     "output_type": "execute_result"
    }
   ],
   "source": [
    "df_loan.shape"
   ]
  },
  {
   "cell_type": "code",
   "execution_count": 55,
   "id": "229042fb",
   "metadata": {},
   "outputs": [
    {
     "data": {
      "text/plain": [
       "member_id               0\n",
       "loan_amnt               0\n",
       "funded_amnt             0\n",
       "term                    0\n",
       "int_rate                0\n",
       "installment             0\n",
       "grade                   0\n",
       "sub_grade               0\n",
       "emp_length              0\n",
       "home_ownership          0\n",
       "annual_inc              0\n",
       "verification_status     0\n",
       "issue_d                 0\n",
       "loan_status             0\n",
       "purpose                 0\n",
       "zip_code                0\n",
       "addr_state              0\n",
       "dti                     0\n",
       "delinq_2yrs             0\n",
       "earliest_cr_line        0\n",
       "inq_last_6mths          0\n",
       "open_acc                0\n",
       "pub_rec                 0\n",
       "revol_bal               0\n",
       "revol_util              0\n",
       "total_acc               0\n",
       "pub_rec_bankruptcies    0\n",
       "dtype: int64"
      ]
     },
     "execution_count": 55,
     "metadata": {},
     "output_type": "execute_result"
    }
   ],
   "source": [
    "df_loan.isnull().sum()"
   ]
  },
  {
   "cell_type": "code",
   "execution_count": 56,
   "id": "4321e23d",
   "metadata": {},
   "outputs": [
    {
     "name": "stdout",
     "output_type": "stream",
     "text": [
      "<class 'pandas.core.frame.DataFrame'>\n",
      "Int64Index: 39667 entries, 0 to 39716\n",
      "Data columns (total 27 columns):\n",
      " #   Column                Non-Null Count  Dtype  \n",
      "---  ------                --------------  -----  \n",
      " 0   member_id             39667 non-null  int64  \n",
      " 1   loan_amnt             39667 non-null  int64  \n",
      " 2   funded_amnt           39667 non-null  int64  \n",
      " 3   term                  39667 non-null  object \n",
      " 4   int_rate              39667 non-null  float64\n",
      " 5   installment           39667 non-null  float64\n",
      " 6   grade                 39667 non-null  object \n",
      " 7   sub_grade             39667 non-null  object \n",
      " 8   emp_length            39667 non-null  object \n",
      " 9   home_ownership        39667 non-null  object \n",
      " 10  annual_inc            39667 non-null  float64\n",
      " 11  verification_status   39667 non-null  object \n",
      " 12  issue_d               39667 non-null  object \n",
      " 13  loan_status           39667 non-null  object \n",
      " 14  purpose               39667 non-null  object \n",
      " 15  zip_code              39667 non-null  object \n",
      " 16  addr_state            39667 non-null  object \n",
      " 17  dti                   39667 non-null  float64\n",
      " 18  delinq_2yrs           39667 non-null  int64  \n",
      " 19  earliest_cr_line      39667 non-null  object \n",
      " 20  inq_last_6mths        39667 non-null  int64  \n",
      " 21  open_acc              39667 non-null  int64  \n",
      " 22  pub_rec               39667 non-null  int64  \n",
      " 23  revol_bal             39667 non-null  int64  \n",
      " 24  revol_util            39667 non-null  float64\n",
      " 25  total_acc             39667 non-null  int64  \n",
      " 26  pub_rec_bankruptcies  39667 non-null  float64\n",
      "dtypes: float64(6), int64(9), object(12)\n",
      "memory usage: 8.5+ MB\n"
     ]
    }
   ],
   "source": [
    "df_loan.info()"
   ]
  },
  {
   "cell_type": "code",
   "execution_count": 57,
   "id": "af5dd1c3",
   "metadata": {},
   "outputs": [
    {
     "data": {
      "text/plain": [
       "0"
      ]
     },
     "execution_count": 57,
     "metadata": {},
     "output_type": "execute_result"
    }
   ],
   "source": [
    "df_loan.duplicated().sum()"
   ]
  },
  {
   "cell_type": "markdown",
   "id": "00466729",
   "metadata": {},
   "source": [
    "**We have cleaned the data and found out that no null or duplicate values are present in data and final\n",
    "dataframe has 39 columns which would be used for further analysis.**"
   ]
  },
  {
   "cell_type": "code",
   "execution_count": 58,
   "id": "9bb30bd1",
   "metadata": {},
   "outputs": [],
   "source": [
    "cat_cols=[\"member_id\",\"term\",\"grade\",\"sub_grade\",\"home_ownership\",\"verification_status\",\"issue_d\",\"loan_status\"]\n",
    "num_cols=[\"loan_amnt\",\"funded_amnt\",\"installment\",\"annual_inc\",'int_rate','revol_bal','revol_util','pub_rec_bankruptcies','inq_last_6mths','open_acc']"
   ]
  },
  {
   "cell_type": "code",
   "execution_count": 59,
   "id": "77921c7c",
   "metadata": {},
   "outputs": [],
   "source": [
    "num_tushar=[\"dti\",\"total_acc\",\"mths_since_last_delinq\",\"mths_since_last_record\"]\n",
    "cat_tushar=[\"purpose\",\"zip_code\",\"addr_state\",\"emp_length\",\"delinq_2yrs\",\"earliest_cr_line\",'pub_rec']"
   ]
  },
  {
   "cell_type": "code",
   "execution_count": 60,
   "id": "340ef487",
   "metadata": {},
   "outputs": [
    {
     "data": {
      "text/plain": [
       "Fully Paid     32916\n",
       "Charged Off     5611\n",
       "Current         1140\n",
       "Name: loan_status, dtype: int64"
      ]
     },
     "execution_count": 60,
     "metadata": {},
     "output_type": "execute_result"
    }
   ],
   "source": [
    "df_loan['loan_status'].value_counts()"
   ]
  },
  {
   "cell_type": "code",
   "execution_count": 61,
   "id": "53431a6a",
   "metadata": {},
   "outputs": [
    {
     "name": "stdout",
     "output_type": "stream",
     "text": [
      "Fully Paid     82.980815\n",
      "Charged Off    14.145259\n",
      "Current         2.873925\n",
      "Name: loan_status, dtype: float64\n"
     ]
    }
   ],
   "source": [
    "loan_status_per=df_loan['loan_status'].value_counts(normalize=True)*100\n",
    "print(loan_status_per)\n"
   ]
  },
  {
   "cell_type": "markdown",
   "id": "9e0c46cb",
   "metadata": {},
   "source": [
    "# Univaraite analysis"
   ]
  },
  {
   "cell_type": "markdown",
   "id": "db210da1",
   "metadata": {},
   "source": [
    "**Summary Statistics for Numerical coulmns**"
   ]
  },
  {
   "cell_type": "code",
   "execution_count": 62,
   "id": "988f9325",
   "metadata": {},
   "outputs": [
    {
     "data": {
      "text/html": [
       "<div>\n",
       "<style scoped>\n",
       "    .dataframe tbody tr th:only-of-type {\n",
       "        vertical-align: middle;\n",
       "    }\n",
       "\n",
       "    .dataframe tbody tr th {\n",
       "        vertical-align: top;\n",
       "    }\n",
       "\n",
       "    .dataframe thead th {\n",
       "        text-align: right;\n",
       "    }\n",
       "</style>\n",
       "<table border=\"1\" class=\"dataframe\">\n",
       "  <thead>\n",
       "    <tr style=\"text-align: right;\">\n",
       "      <th></th>\n",
       "      <th>loan_amnt</th>\n",
       "      <th>funded_amnt</th>\n",
       "      <th>installment</th>\n",
       "      <th>annual_inc</th>\n",
       "      <th>int_rate</th>\n",
       "      <th>revol_bal</th>\n",
       "      <th>revol_util</th>\n",
       "      <th>pub_rec_bankruptcies</th>\n",
       "      <th>inq_last_6mths</th>\n",
       "      <th>open_acc</th>\n",
       "    </tr>\n",
       "  </thead>\n",
       "  <tbody>\n",
       "    <tr>\n",
       "      <th>count</th>\n",
       "      <td>39667.000000</td>\n",
       "      <td>39667.000000</td>\n",
       "      <td>39667.000000</td>\n",
       "      <td>3.966700e+04</td>\n",
       "      <td>39667.000000</td>\n",
       "      <td>39667.000000</td>\n",
       "      <td>39667.000000</td>\n",
       "      <td>39667.000000</td>\n",
       "      <td>39667.000000</td>\n",
       "      <td>39667.000000</td>\n",
       "    </tr>\n",
       "    <tr>\n",
       "      <th>mean</th>\n",
       "      <td>11227.664053</td>\n",
       "      <td>10955.590919</td>\n",
       "      <td>324.770793</td>\n",
       "      <td>6.899952e+04</td>\n",
       "      <td>12.016587</td>\n",
       "      <td>13398.155394</td>\n",
       "      <td>48.832152</td>\n",
       "      <td>0.042529</td>\n",
       "      <td>0.869211</td>\n",
       "      <td>9.300250</td>\n",
       "    </tr>\n",
       "    <tr>\n",
       "      <th>std</th>\n",
       "      <td>7456.610740</td>\n",
       "      <td>7187.135178</td>\n",
       "      <td>208.882852</td>\n",
       "      <td>6.378947e+04</td>\n",
       "      <td>3.723856</td>\n",
       "      <td>15887.036743</td>\n",
       "      <td>28.332634</td>\n",
       "      <td>0.202668</td>\n",
       "      <td>1.070422</td>\n",
       "      <td>4.398866</td>\n",
       "    </tr>\n",
       "    <tr>\n",
       "      <th>min</th>\n",
       "      <td>500.000000</td>\n",
       "      <td>500.000000</td>\n",
       "      <td>15.690000</td>\n",
       "      <td>4.000000e+03</td>\n",
       "      <td>5.420000</td>\n",
       "      <td>0.000000</td>\n",
       "      <td>0.000000</td>\n",
       "      <td>0.000000</td>\n",
       "      <td>0.000000</td>\n",
       "      <td>2.000000</td>\n",
       "    </tr>\n",
       "    <tr>\n",
       "      <th>25%</th>\n",
       "      <td>5500.000000</td>\n",
       "      <td>5400.000000</td>\n",
       "      <td>167.080000</td>\n",
       "      <td>4.051632e+04</td>\n",
       "      <td>9.250000</td>\n",
       "      <td>3717.000000</td>\n",
       "      <td>25.400000</td>\n",
       "      <td>0.000000</td>\n",
       "      <td>0.000000</td>\n",
       "      <td>6.000000</td>\n",
       "    </tr>\n",
       "    <tr>\n",
       "      <th>50%</th>\n",
       "      <td>10000.000000</td>\n",
       "      <td>9625.000000</td>\n",
       "      <td>280.610000</td>\n",
       "      <td>5.900000e+04</td>\n",
       "      <td>11.830000</td>\n",
       "      <td>8863.000000</td>\n",
       "      <td>49.300000</td>\n",
       "      <td>0.000000</td>\n",
       "      <td>1.000000</td>\n",
       "      <td>9.000000</td>\n",
       "    </tr>\n",
       "    <tr>\n",
       "      <th>75%</th>\n",
       "      <td>15000.000000</td>\n",
       "      <td>15000.000000</td>\n",
       "      <td>430.780000</td>\n",
       "      <td>8.240000e+04</td>\n",
       "      <td>14.540000</td>\n",
       "      <td>17070.000000</td>\n",
       "      <td>72.400000</td>\n",
       "      <td>0.000000</td>\n",
       "      <td>1.000000</td>\n",
       "      <td>12.000000</td>\n",
       "    </tr>\n",
       "    <tr>\n",
       "      <th>max</th>\n",
       "      <td>35000.000000</td>\n",
       "      <td>35000.000000</td>\n",
       "      <td>1305.190000</td>\n",
       "      <td>6.000000e+06</td>\n",
       "      <td>24.590000</td>\n",
       "      <td>149588.000000</td>\n",
       "      <td>99.900000</td>\n",
       "      <td>2.000000</td>\n",
       "      <td>8.000000</td>\n",
       "      <td>44.000000</td>\n",
       "    </tr>\n",
       "  </tbody>\n",
       "</table>\n",
       "</div>"
      ],
      "text/plain": [
       "          loan_amnt   funded_amnt   installment    annual_inc      int_rate  \\\n",
       "count  39667.000000  39667.000000  39667.000000  3.966700e+04  39667.000000   \n",
       "mean   11227.664053  10955.590919    324.770793  6.899952e+04     12.016587   \n",
       "std     7456.610740   7187.135178    208.882852  6.378947e+04      3.723856   \n",
       "min      500.000000    500.000000     15.690000  4.000000e+03      5.420000   \n",
       "25%     5500.000000   5400.000000    167.080000  4.051632e+04      9.250000   \n",
       "50%    10000.000000   9625.000000    280.610000  5.900000e+04     11.830000   \n",
       "75%    15000.000000  15000.000000    430.780000  8.240000e+04     14.540000   \n",
       "max    35000.000000  35000.000000   1305.190000  6.000000e+06     24.590000   \n",
       "\n",
       "           revol_bal    revol_util  pub_rec_bankruptcies  inq_last_6mths  \\\n",
       "count   39667.000000  39667.000000          39667.000000    39667.000000   \n",
       "mean    13398.155394     48.832152              0.042529        0.869211   \n",
       "std     15887.036743     28.332634              0.202668        1.070422   \n",
       "min         0.000000      0.000000              0.000000        0.000000   \n",
       "25%      3717.000000     25.400000              0.000000        0.000000   \n",
       "50%      8863.000000     49.300000              0.000000        1.000000   \n",
       "75%     17070.000000     72.400000              0.000000        1.000000   \n",
       "max    149588.000000     99.900000              2.000000        8.000000   \n",
       "\n",
       "           open_acc  \n",
       "count  39667.000000  \n",
       "mean       9.300250  \n",
       "std        4.398866  \n",
       "min        2.000000  \n",
       "25%        6.000000  \n",
       "50%        9.000000  \n",
       "75%       12.000000  \n",
       "max       44.000000  "
      ]
     },
     "execution_count": 62,
     "metadata": {},
     "output_type": "execute_result"
    }
   ],
   "source": [
    "df_loan[num_cols].describe()"
   ]
  },
  {
   "cell_type": "code",
   "execution_count": 63,
   "id": "be196138",
   "metadata": {},
   "outputs": [
    {
     "data": {
      "text/html": [
       "<div>\n",
       "<style scoped>\n",
       "    .dataframe tbody tr th:only-of-type {\n",
       "        vertical-align: middle;\n",
       "    }\n",
       "\n",
       "    .dataframe tbody tr th {\n",
       "        vertical-align: top;\n",
       "    }\n",
       "\n",
       "    .dataframe thead th {\n",
       "        text-align: right;\n",
       "    }\n",
       "</style>\n",
       "<table border=\"1\" class=\"dataframe\">\n",
       "  <thead>\n",
       "    <tr style=\"text-align: right;\">\n",
       "      <th></th>\n",
       "      <th>loan_amnt</th>\n",
       "      <th>funded_amnt</th>\n",
       "      <th>installment</th>\n",
       "      <th>annual_inc</th>\n",
       "      <th>int_rate</th>\n",
       "      <th>revol_bal</th>\n",
       "      <th>revol_util</th>\n",
       "      <th>pub_rec_bankruptcies</th>\n",
       "      <th>inq_last_6mths</th>\n",
       "      <th>open_acc</th>\n",
       "    </tr>\n",
       "  </thead>\n",
       "  <tbody>\n",
       "    <tr>\n",
       "      <th>count</th>\n",
       "      <td>39667.000000</td>\n",
       "      <td>39667.000000</td>\n",
       "      <td>39667.000000</td>\n",
       "      <td>3.966700e+04</td>\n",
       "      <td>39667.000000</td>\n",
       "      <td>39667.000000</td>\n",
       "      <td>39667.000000</td>\n",
       "      <td>39667.000000</td>\n",
       "      <td>39667.000000</td>\n",
       "      <td>39667.000000</td>\n",
       "    </tr>\n",
       "    <tr>\n",
       "      <th>mean</th>\n",
       "      <td>11227.664053</td>\n",
       "      <td>10955.590919</td>\n",
       "      <td>324.770793</td>\n",
       "      <td>6.899952e+04</td>\n",
       "      <td>12.016587</td>\n",
       "      <td>13398.155394</td>\n",
       "      <td>48.832152</td>\n",
       "      <td>0.042529</td>\n",
       "      <td>0.869211</td>\n",
       "      <td>9.300250</td>\n",
       "    </tr>\n",
       "    <tr>\n",
       "      <th>std</th>\n",
       "      <td>7456.610740</td>\n",
       "      <td>7187.135178</td>\n",
       "      <td>208.882852</td>\n",
       "      <td>6.378947e+04</td>\n",
       "      <td>3.723856</td>\n",
       "      <td>15887.036743</td>\n",
       "      <td>28.332634</td>\n",
       "      <td>0.202668</td>\n",
       "      <td>1.070422</td>\n",
       "      <td>4.398866</td>\n",
       "    </tr>\n",
       "    <tr>\n",
       "      <th>min</th>\n",
       "      <td>500.000000</td>\n",
       "      <td>500.000000</td>\n",
       "      <td>15.690000</td>\n",
       "      <td>4.000000e+03</td>\n",
       "      <td>5.420000</td>\n",
       "      <td>0.000000</td>\n",
       "      <td>0.000000</td>\n",
       "      <td>0.000000</td>\n",
       "      <td>0.000000</td>\n",
       "      <td>2.000000</td>\n",
       "    </tr>\n",
       "    <tr>\n",
       "      <th>25%</th>\n",
       "      <td>5500.000000</td>\n",
       "      <td>5400.000000</td>\n",
       "      <td>167.080000</td>\n",
       "      <td>4.051632e+04</td>\n",
       "      <td>9.250000</td>\n",
       "      <td>3717.000000</td>\n",
       "      <td>25.400000</td>\n",
       "      <td>0.000000</td>\n",
       "      <td>0.000000</td>\n",
       "      <td>6.000000</td>\n",
       "    </tr>\n",
       "    <tr>\n",
       "      <th>50%</th>\n",
       "      <td>10000.000000</td>\n",
       "      <td>9625.000000</td>\n",
       "      <td>280.610000</td>\n",
       "      <td>5.900000e+04</td>\n",
       "      <td>11.830000</td>\n",
       "      <td>8863.000000</td>\n",
       "      <td>49.300000</td>\n",
       "      <td>0.000000</td>\n",
       "      <td>1.000000</td>\n",
       "      <td>9.000000</td>\n",
       "    </tr>\n",
       "    <tr>\n",
       "      <th>75%</th>\n",
       "      <td>15000.000000</td>\n",
       "      <td>15000.000000</td>\n",
       "      <td>430.780000</td>\n",
       "      <td>8.240000e+04</td>\n",
       "      <td>14.540000</td>\n",
       "      <td>17070.000000</td>\n",
       "      <td>72.400000</td>\n",
       "      <td>0.000000</td>\n",
       "      <td>1.000000</td>\n",
       "      <td>12.000000</td>\n",
       "    </tr>\n",
       "    <tr>\n",
       "      <th>max</th>\n",
       "      <td>35000.000000</td>\n",
       "      <td>35000.000000</td>\n",
       "      <td>1305.190000</td>\n",
       "      <td>6.000000e+06</td>\n",
       "      <td>24.590000</td>\n",
       "      <td>149588.000000</td>\n",
       "      <td>99.900000</td>\n",
       "      <td>2.000000</td>\n",
       "      <td>8.000000</td>\n",
       "      <td>44.000000</td>\n",
       "    </tr>\n",
       "  </tbody>\n",
       "</table>\n",
       "</div>"
      ],
      "text/plain": [
       "          loan_amnt   funded_amnt   installment    annual_inc      int_rate  \\\n",
       "count  39667.000000  39667.000000  39667.000000  3.966700e+04  39667.000000   \n",
       "mean   11227.664053  10955.590919    324.770793  6.899952e+04     12.016587   \n",
       "std     7456.610740   7187.135178    208.882852  6.378947e+04      3.723856   \n",
       "min      500.000000    500.000000     15.690000  4.000000e+03      5.420000   \n",
       "25%     5500.000000   5400.000000    167.080000  4.051632e+04      9.250000   \n",
       "50%    10000.000000   9625.000000    280.610000  5.900000e+04     11.830000   \n",
       "75%    15000.000000  15000.000000    430.780000  8.240000e+04     14.540000   \n",
       "max    35000.000000  35000.000000   1305.190000  6.000000e+06     24.590000   \n",
       "\n",
       "           revol_bal    revol_util  pub_rec_bankruptcies  inq_last_6mths  \\\n",
       "count   39667.000000  39667.000000          39667.000000    39667.000000   \n",
       "mean    13398.155394     48.832152              0.042529        0.869211   \n",
       "std     15887.036743     28.332634              0.202668        1.070422   \n",
       "min         0.000000      0.000000              0.000000        0.000000   \n",
       "25%      3717.000000     25.400000              0.000000        0.000000   \n",
       "50%      8863.000000     49.300000              0.000000        1.000000   \n",
       "75%     17070.000000     72.400000              0.000000        1.000000   \n",
       "max    149588.000000     99.900000              2.000000        8.000000   \n",
       "\n",
       "           open_acc  \n",
       "count  39667.000000  \n",
       "mean       9.300250  \n",
       "std        4.398866  \n",
       "min        2.000000  \n",
       "25%        6.000000  \n",
       "50%        9.000000  \n",
       "75%       12.000000  \n",
       "max       44.000000  "
      ]
     },
     "execution_count": 63,
     "metadata": {},
     "output_type": "execute_result"
    }
   ],
   "source": [
    "df_loan[num_cols].describe()"
   ]
  },
  {
   "cell_type": "code",
   "execution_count": 64,
   "id": "ab378200",
   "metadata": {},
   "outputs": [
    {
     "data": {
      "image/png": "[encoded data removed]",
      "text/plain": [
       "<Figure size 360x432 with 1 Axes>"
      ]
     },
     "metadata": {},
     "output_type": "display_data"
    }
   ],
   "source": [
    "plt.figure(figsize=(5,6))\n",
    "plt.pie(loan_status_per, autopct='%1.2f%%',labels=loan_status_per.index, startangle=140,textprops={'fontsize': 16})\n",
    "plt.show()\n"
   ]
  },
  {
   "cell_type": "code",
   "execution_count": 65,
   "id": "51d8dc57",
   "metadata": {},
   "outputs": [],
   "source": [
    "df_filter=df_loan[df_loan['loan_status'] != 'Current']"
   ]
  },
  {
   "cell_type": "markdown",
   "id": "6ff235db",
   "metadata": {},
   "source": [
    "**As we proceed with the analysis, we are excluding borrowers whose loan status is marked as \"active.\" This decision is driven by our focus on identifying defaulters so we are excluding users with loans_status='current'**"
   ]
  },
  {
   "cell_type": "code",
   "execution_count": 66,
   "id": "d2e05b8b",
   "metadata": {},
   "outputs": [],
   "source": [
    "df_num=df_filter[[\"loan_amnt\",\"funded_amnt\",\"installment\",\"annual_inc\",'int_rate','revol_bal','pub_rec_bankruptcies','inq_last_6mths','open_acc']]"
   ]
  },
  {
   "cell_type": "markdown",
   "id": "39898fef",
   "metadata": {},
   "source": [
    "**Checking for outliers**"
   ]
  },
  {
   "cell_type": "code",
   "execution_count": 68,
   "id": "559d53cf",
   "metadata": {},
   "outputs": [
    {
     "data": {
      "image/png": "[encoded data removed]",
      "text/plain": [
       "<Figure size 432x288 with 1 Axes>"
      ]
     },
     "metadata": {
      "needs_background": "light"
     },
     "output_type": "display_data"
    },
    {
     "data": {
      "image/png": "[encoded data removed]",
      "text/plain": [
       "<Figure size 432x288 with 1 Axes>"
      ]
     },
     "metadata": {
      "needs_background": "light"
     },
     "output_type": "display_data"
    },
    {
     "data": {
      "image/png": "[encoded data removed]",
      "text/plain": [
       "<Figure size 432x288 with 1 Axes>"
      ]
     },
     "metadata": {
      "needs_background": "light"
     },
     "output_type": "display_data"
    },
    {
     "data": {
      "image/png": "[encoded data removed]",
      "text/plain": [
       "<Figure size 432x288 with 1 Axes>"
      ]
     },
     "metadata": {
      "needs_background": "light"
     },
     "output_type": "display_data"
    },
    {
     "data": {
      "image/png": "[encoded data removed]",
      "text/plain": [
       "<Figure size 432x288 with 1 Axes>"
      ]
     },
     "metadata": {
      "needs_background": "light"
     },
     "output_type": "display_data"
    },
    {
     "data": {
      "image/png": "[encoded data removed]",
      "text/plain": [
       "<Figure size 432x288 with 1 Axes>"
      ]
     },
     "metadata": {
      "needs_background": "light"
     },
     "output_type": "display_data"
    },
    {
     "data": {
      "image/png": "[encoded data removed]",
      "text/plain": [
       "<Figure size 432x288 with 1 Axes>"
      ]
     },
     "metadata": {
      "needs_background": "light"
     },
     "output_type": "display_data"
    },
    {
     "data": {
      "image/png": "[encoded data removed]",
      "text/plain": [
       "<Figure size 432x288 with 1 Axes>"
      ]
     },
     "metadata": {
      "needs_background": "light"
     },
     "output_type": "display_data"
    },
    {
     "data": {
      "image/png": "[encoded data removed]",
      "text/plain": [
       "<Figure size 432x288 with 1 Axes>"
      ]
     },
     "metadata": {
      "needs_background": "light"
     },
     "output_type": "display_data"
    }
   ],
   "source": [
    "for column in df_num.columns:\n",
    "    sns.boxplot(df_num[column])\n",
    "    plt.show()\n",
    "#plt.subplot(1,2,1)\n",
    "   "
   ]
  },
  {
   "cell_type": "markdown",
   "id": "d02b1445",
   "metadata": {},
   "source": [
    "We can see that in all numerical columns outliers are present "
   ]
  },
  {
   "cell_type": "code",
   "execution_count": 69,
   "id": "041a2df0",
   "metadata": {},
   "outputs": [
    {
     "data": {
      "image/png": "[encoded data removed]",
      "text/plain": [
       "<Figure size 432x288 with 1 Axes>"
      ]
     },
     "metadata": {
      "needs_background": "light"
     },
     "output_type": "display_data"
    }
   ],
   "source": [
    "sns.countplot(x=df_filter['home_ownership'])\n",
    "plt.title('Home Ownership Distribution')\n",
    "plt.ylabel('Count of Borrowers')\n",
    "plt.show()\n"
   ]
  },
  {
   "cell_type": "markdown",
   "id": "42593649",
   "metadata": {},
   "source": [
    "**Graph shows that rent,mortgage categories are having highest number of loan borrowers**"
   ]
  },
  {
   "cell_type": "code",
   "execution_count": 70,
   "id": "d95262c8",
   "metadata": {},
   "outputs": [],
   "source": [
    "df_filter['year']=pd.to_datetime(df_filter['issue_d'],format='%b-%y').dt.year"
   ]
  },
  {
   "cell_type": "code",
   "execution_count": 71,
   "id": "cf96f124",
   "metadata": {},
   "outputs": [],
   "source": [
    "df_filter['month']=pd.to_datetime(df_filter['issue_d'],format='%b-%y').dt.month"
   ]
  },
  {
   "cell_type": "code",
   "execution_count": 72,
   "id": "112c9920",
   "metadata": {},
   "outputs": [
    {
     "data": {
      "image/png": "[encoded data removed]",
      "text/plain": [
       "<Figure size 432x288 with 1 Axes>"
      ]
     },
     "metadata": {
      "needs_background": "light"
     },
     "output_type": "display_data"
    }
   ],
   "source": [
    "sns.countplot(x=df_filter['year'])\n",
    "plt.show()"
   ]
  },
  {
   "cell_type": "code",
   "execution_count": 73,
   "id": "cf94aea0",
   "metadata": {},
   "outputs": [
    {
     "data": {
      "image/png": "[encoded data removed]",
      "text/plain": [
       "<Figure size 432x288 with 1 Axes>"
      ]
     },
     "metadata": {
      "needs_background": "light"
     },
     "output_type": "display_data"
    }
   ],
   "source": [
    "sns.countplot(x=df_filter['month'])\n",
    "plt.show()"
   ]
  },
  {
   "cell_type": "markdown",
   "id": "eb564f8d",
   "metadata": {},
   "source": [
    "**Graph shows that there is increase in number of borrowers over the year and in Dec maximum loans are approved** "
   ]
  },
  {
   "cell_type": "markdown",
   "id": "3971e659",
   "metadata": {},
   "source": [
    "**Analyzing employment length**"
   ]
  },
  {
   "cell_type": "code",
   "execution_count": 75,
   "id": "ec4d9363",
   "metadata": {},
   "outputs": [
    {
     "data": {
      "text/plain": [
       "<AxesSubplot:xlabel='emp_length', ylabel='count'>"
      ]
     },
     "execution_count": 75,
     "metadata": {},
     "output_type": "execute_result"
    },
    {
     "data": {
      "image/png": "[encoded data removed]",
      "text/plain": [
       "<Figure size 432x288 with 1 Axes>"
      ]
     },
     "metadata": {
      "needs_background": "light"
     },
     "output_type": "display_data"
    }
   ],
   "source": [
    "sns.countplot(x='emp_length', data=df_loan[df_loan.loan_status == 'Charged Off'])\n",
    "#plt.title()"
   ]
  },
  {
   "cell_type": "code",
   "execution_count": 76,
   "id": "7b982d7f",
   "metadata": {},
   "outputs": [
    {
     "data": {
      "text/plain": [
       "<AxesSubplot:xlabel='addr_state', ylabel='count'>"
      ]
     },
     "execution_count": 76,
     "metadata": {},
     "output_type": "execute_result"
    },
    {
     "data": {
      "image/png": "[encoded data removed]",
      "text/plain": [
       "<Figure size 432x288 with 1 Axes>"
      ]
     },
     "metadata": {
      "needs_background": "light"
     },
     "output_type": "display_data"
    }
   ],
   "source": [
    "sns.countplot(x='addr_state',data=df_loan[df_loan.loan_status == 'Charged Off'])"
   ]
  },
  {
   "cell_type": "markdown",
   "id": "acdd86ca",
   "metadata": {},
   "source": [
    "**Analyzing DTI**"
   ]
  },
  {
   "cell_type": "code",
   "execution_count": 77,
   "id": "f4e808d9",
   "metadata": {},
   "outputs": [],
   "source": [
    "df_loan['dti_groups'] = pd.cut(df_loan['dti'], bins=5,precision =0,labels=['0-6','6-12','12-18','18-24','24-30'])"
   ]
  },
  {
   "cell_type": "code",
   "execution_count": 78,
   "id": "274d5f72",
   "metadata": {},
   "outputs": [
    {
     "data": {
      "text/plain": [
       "<AxesSubplot:xlabel='dti_groups', ylabel='count'>"
      ]
     },
     "execution_count": 78,
     "metadata": {},
     "output_type": "execute_result"
    },
    {
     "data": {
      "image/png": "[encoded data removed]",
      "text/plain": [
       "<Figure size 432x288 with 1 Axes>"
      ]
     },
     "metadata": {
      "needs_background": "light"
     },
     "output_type": "display_data"
    }
   ],
   "source": [
    "sns.countplot(x='dti_groups', data=df_loan[df_loan['loan_status']=='Charged Off'])"
   ]
  },
  {
   "cell_type": "markdown",
   "id": "65cd2307",
   "metadata": {},
   "source": [
    "**Analyzing pupose**"
   ]
  },
  {
   "cell_type": "code",
   "execution_count": 79,
   "id": "32034913",
   "metadata": {},
   "outputs": [
    {
     "data": {
      "text/plain": [
       "<AxesSubplot:xlabel='count', ylabel='purpose'>"
      ]
     },
     "execution_count": 79,
     "metadata": {},
     "output_type": "execute_result"
    },
    {
     "data": {
      "image/png": "[encoded data removed]",
      "text/plain": [
       "<Figure size 432x288 with 1 Axes>"
      ]
     },
     "metadata": {
      "needs_background": "light"
     },
     "output_type": "display_data"
    }
   ],
   "source": [
    "sns.countplot(y ='purpose', data=df_loan[df_loan.loan_status == 'Charged Off'])"
   ]
  },
  {
   "cell_type": "markdown",
   "id": "cb77657f",
   "metadata": {},
   "source": [
    "**Analyzing deliquency 2 years**"
   ]
  },
  {
   "cell_type": "code",
   "execution_count": 80,
   "id": "1eb5198e",
   "metadata": {},
   "outputs": [
    {
     "data": {
      "text/plain": [
       "<AxesSubplot:xlabel='count', ylabel='delinq_2yrs'>"
      ]
     },
     "execution_count": 80,
     "metadata": {},
     "output_type": "execute_result"
    },
    {
     "data": {
      "image/png": "[encoded data removed]",
      "text/plain": [
       "<Figure size 432x288 with 1 Axes>"
      ]
     },
     "metadata": {
      "needs_background": "light"
     },
     "output_type": "display_data"
    }
   ],
   "source": [
    "sns.countplot(y ='delinq_2yrs', data=df_loan[df_loan.loan_status == 'Charged Off'])"
   ]
  },
  {
   "cell_type": "code",
   "execution_count": 81,
   "id": "033f1a90",
   "metadata": {},
   "outputs": [
    {
     "data": {
      "text/plain": [
       "<AxesSubplot:xlabel='count', ylabel='delinq_2yrs'>"
      ]
     },
     "execution_count": 81,
     "metadata": {},
     "output_type": "execute_result"
    },
    {
     "data": {
      "image/png": "[encoded data removed]",
      "text/plain": [
       "<Figure size 432x288 with 1 Axes>"
      ]
     },
     "metadata": {
      "needs_background": "light"
     },
     "output_type": "display_data"
    }
   ],
   "source": [
    "sns.countplot(y ='delinq_2yrs', data=df_loan[df_loan.loan_status == 'Fully Paid'])"
   ]
  },
  {
   "cell_type": "markdown",
   "id": "c05cd6b0",
   "metadata": {},
   "source": [
    "There seems to be no relation between delinq_2yrs and default rate"
   ]
  },
  {
   "cell_type": "markdown",
   "id": "6950f682",
   "metadata": {},
   "source": [
    "**Analyzing total accounts**"
   ]
  },
  {
   "cell_type": "code",
   "execution_count": 82,
   "id": "6b76aa4d",
   "metadata": {},
   "outputs": [
    {
     "data": {
      "text/plain": [
       "count    39667.000000\n",
       "mean        22.103411\n",
       "std         11.398386\n",
       "min          2.000000\n",
       "25%         14.000000\n",
       "50%         20.000000\n",
       "75%         29.000000\n",
       "max         90.000000\n",
       "Name: total_acc, dtype: float64"
      ]
     },
     "execution_count": 82,
     "metadata": {},
     "output_type": "execute_result"
    }
   ],
   "source": [
    "df_loan.total_acc.describe()"
   ]
  },
  {
   "cell_type": "markdown",
   "id": "f17e0b2b",
   "metadata": {},
   "source": [
    "total account varies from 2-90. So we can create buckets here"
   ]
  },
  {
   "cell_type": "code",
   "execution_count": 83,
   "id": "29f943a7",
   "metadata": {},
   "outputs": [],
   "source": [
    "df_loan['total_acc_groups'] = pd.cut(df_loan['total_acc'], bins=10,precision =0,labels=['0-9','10-19','20-29','30-39','40-49','50-59','60-69','70-79','80-89','90-99'])"
   ]
  },
  {
   "cell_type": "code",
   "execution_count": 84,
   "id": "eed6aa9c",
   "metadata": {},
   "outputs": [
    {
     "data": {
      "text/plain": [
       "<AxesSubplot:xlabel='total_acc_groups', ylabel='count'>"
      ]
     },
     "execution_count": 84,
     "metadata": {},
     "output_type": "execute_result"
    },
    {
     "data": {
      "image/png": "[encoded data removed]",
      "text/plain": [
       "<Figure size 432x288 with 1 Axes>"
      ]
     },
     "metadata": {
      "needs_background": "light"
     },
     "output_type": "display_data"
    }
   ],
   "source": [
    "sns.countplot(x='total_acc_groups', data=df_loan[df_loan['loan_status']=='Charged Off'])"
   ]
  },
  {
   "cell_type": "code",
   "execution_count": null,
   "id": "5c7917db",
   "metadata": {},
   "outputs": [],
   "source": [
    "**Analyzing earliest_cr_line**"
   ]
  },
  {
   "cell_type": "code",
   "execution_count": null,
   "id": "2f559c63",
   "metadata": {},
   "outputs": [],
   "source": [
    "df_loan.earliest_cr_line.describe()"
   ]
  },
  {
   "cell_type": "code",
   "execution_count": null,
   "id": "0caede14",
   "metadata": {},
   "outputs": [],
   "source": [
    "df_loan.earliest_cr_line = pd.to_numeric(df_loan.earliest_cr_line.apply(lambda x : x.split('-')[1]))"
   ]
  },
  {
   "cell_type": "code",
   "execution_count": null,
   "id": "f4342f52",
   "metadata": {},
   "outputs": [],
   "source": [
    "df_loan.earliest_cr_line = pd.to_numeric(df_loan.earliest_cr_line.apply(lambda x : x if x < 12 else 100 - x))"
   ]
  },
  {
   "cell_type": "code",
   "execution_count": null,
   "id": "bfdbf7a0",
   "metadata": {},
   "outputs": [],
   "source": [
    "df_loan['earliest_cr_line_groups'] = pd.cut(df_loan['earliest_cr_line'], bins=10,precision =0,labels=['0-5','6-12','13-18','19-24','25-30','31-36','37-42','43-48','49-54','55-60'])"
   ]
  },
  {
   "cell_type": "code",
   "execution_count": null,
   "id": "44115141",
   "metadata": {},
   "outputs": [],
   "source": [
    "sns.countplot(x='earliest_cr_line_groups', data=df_loan[df_loan['loan_status']=='Charged Off'])"
   ]
  },
  {
   "cell_type": "markdown",
   "id": "4155cec7",
   "metadata": {},
   "source": [
    "**Analyzing pub_rec**"
   ]
  },
  {
   "cell_type": "code",
   "execution_count": null,
   "id": "a78ca4fd",
   "metadata": {},
   "outputs": [],
   "source": [
    "df_loan.pub_rec.describe()"
   ]
  },
  {
   "cell_type": "code",
   "execution_count": null,
   "id": "02001a81",
   "metadata": {},
   "outputs": [],
   "source": [
    "sns.countplot(x='pub_rec', data=df_loan[df_loan['loan_status']=='Charged Off'])"
   ]
  },
  {
   "cell_type": "code",
   "execution_count": null,
   "id": "7caecaa6",
   "metadata": {},
   "outputs": [],
   "source": [
    "sns.countplot(x='pub_rec', data=df_loan[df_loan['loan_status']=='Fully Paid'])"
   ]
  },
  {
   "cell_type": "markdown",
   "id": "299ca90a",
   "metadata": {},
   "source": [
    "Number of derogatory public records seems to have no effect on probability of defaulting"
   ]
  },
  {
   "cell_type": "markdown",
   "id": "1cbc235f",
   "metadata": {},
   "source": [
    "# Observations\n",
    "\n",
    "### The above analysis with respect to the charged off loans for each variable suggests the following. There is a more probability of defaulting when : \n",
    "\n",
    "- Dti is between 12-18\n",
    "- Applicants who use the loan to clear other debts\n",
    "- Applicants who have 10-19 loan accounts\n",
    "- Applicants who have recent credit history"
   ]
  },
  {
   "cell_type": "markdown",
   "id": "629953c3",
   "metadata": {},
   "source": [
    "# Bivariate Analysis"
   ]
  },
  {
   "cell_type": "code",
   "execution_count": 86,
   "id": "0a8b57a5",
   "metadata": {},
   "outputs": [
    {
     "data": {
      "image/png": "[encoded data removed]",
      "text/plain": [
       "<Figure size 432x288 with 1 Axes>"
      ]
     },
     "metadata": {
      "needs_background": "light"
     },
     "output_type": "display_data"
    }
   ],
   "source": [
    "sns.barplot(x=df_filter['loan_status'],y=df_filter['annual_inc'],hue=df_filter['term'])\n",
    "plt.yscale('log')\n",
    "plt.title('Income-Term wise loan status Distribution')\n",
    "plt.ylabel('Annual Income')\n",
    "plt.show()"
   ]
  },
  {
   "cell_type": "markdown",
   "id": "ff84368a",
   "metadata": {},
   "source": [
    "**Borrowers having high income have fully paid the loan."
   ]
  },
  {
   "cell_type": "code",
   "execution_count": 97,
   "id": "5f703443",
   "metadata": {},
   "outputs": [
    {
     "data": {
      "image/png": "[encoded data removed]",
      "text/plain": [
       "<Figure size 432x288 with 1 Axes>"
      ]
     },
     "metadata": {
      "needs_background": "light"
     },
     "output_type": "display_data"
    }
   ],
   "source": [
    "sns.barplot(x=df_filter['grade'],y=df_filter['annual_inc'],hue=df_filter['loan_status'])\n",
    "plt.yscale('log')\n",
    "plt.title('Income-Grade wise loan status Distribution')\n",
    "plt.ylabel('Annual Income')\n",
    "\n",
    "plt.show()\n"
   ]
  },
  {
   "cell_type": "markdown",
   "id": "a2febed5",
   "metadata": {},
   "source": [
    "**Borrowers belonging to G grade have the maximum annual income and majority of them have paid loan"
   ]
  },
  {
   "cell_type": "code",
   "execution_count": 98,
   "id": "58c00622",
   "metadata": {},
   "outputs": [
    {
     "data": {
      "image/png": "[encoded data removed]",
      "text/plain": [
       "<Figure size 432x288 with 1 Axes>"
      ]
     },
     "metadata": {
      "needs_background": "light"
     },
     "output_type": "display_data"
    }
   ],
   "source": [
    "import seaborn as sns\n",
    "import matplotlib.pyplot as plt\n",
    "\n",
    "sns.barplot(x='home_ownership',y='loan_amnt', hue='loan_status', data=df_filter)\n",
    "#plt.yscale('log')\n",
    "plt.title('Term and home ownershipwise Loan amount Distribution')\n",
    "plt.ylabel('loan amount')\n",
    "plt.show()"
   ]
  },
  {
   "cell_type": "markdown",
   "id": "4a5c7af4",
   "metadata": {},
   "source": [
    "**Mortgage is leading among home ownership categoery in terms of loan amount**"
   ]
  },
  {
   "cell_type": "code",
   "execution_count": 101,
   "id": "d6735e29",
   "metadata": {},
   "outputs": [
    {
     "data": {
      "image/png": "[encoded data removed]",
      "text/plain": [
       "<Figure size 432x288 with 1 Axes>"
      ]
     },
     "metadata": {
      "needs_background": "light"
     },
     "output_type": "display_data"
    }
   ],
   "source": [
    "sns.barplot(x='verification_status',y='funded_amnt', hue='loan_status', data=df_filter)\n",
    "#plt.yscale('log')\n",
    "plt.title('Verfications status Vs funded Loan amount')\n",
    "plt.ylabel('loan amount')\n",
    "plt.show()"
   ]
  },
  {
   "cell_type": "markdown",
   "id": "b11f9ec9",
   "metadata": {},
   "source": [
    "**Most of the borrowers have verified the loan status**"
   ]
  },
  {
   "cell_type": "code",
   "execution_count": 103,
   "id": "298afbf7",
   "metadata": {},
   "outputs": [],
   "source": [
    "verification_count=df_filter.groupby(['verification_status','member_id']).nunique()\n"
   ]
  },
  {
   "cell_type": "code",
   "execution_count": 105,
   "id": "e9605123",
   "metadata": {},
   "outputs": [
    {
     "data": {
      "image/png": "[encoded data removed]",
      "text/plain": [
       "<Figure size 720x432 with 1 Axes>"
      ]
     },
     "metadata": {
      "needs_background": "light"
     },
     "output_type": "display_data"
    }
   ],
   "source": [
    "plt.figure(figsize=(10, 6))\n",
    "sns.barplot(x='loan_status', y='int_rate', data=df_filter)\n",
    "plt.title('Distribution of Funded Amount by Loan status')\n",
    "plt.xlabel('Loan Status')\n",
    "plt.ylabel('Funded Amount')\n",
    "plt.show()"
   ]
  },
  {
   "cell_type": "markdown",
   "id": "587f5f3f",
   "metadata": {},
   "source": [
    "**Graph shows when interest rate is high there are more chances if being charged off**"
   ]
  },
  {
   "cell_type": "code",
   "execution_count": 94,
   "id": "234e46f8",
   "metadata": {},
   "outputs": [
    {
     "data": {
      "image/png": "[encoded data removed]",
      "text/plain": [
       "<Figure size 432x288 with 1 Axes>"
      ]
     },
     "metadata": {
      "needs_background": "light"
     },
     "output_type": "display_data"
    }
   ],
   "source": [
    "#plt.figure(figsize=(10, 6))\n",
    "sns.boxplot(x='loan_status', y='revol_bal', data=df_filter)\n",
    "plt.title('Revolving Balance by Loan Status')\n",
    "plt.xlabel('Loan Status')\n",
    "plt.ylabel('Revolving Balance')\n",
    "plt.show()"
   ]
  },
  {
   "cell_type": "code",
   "execution_count": 95,
   "id": "b14bb608",
   "metadata": {},
   "outputs": [
    {
     "data": {
      "image/png": "[encoded data removed]",
      "text/plain": [
       "<Figure size 432x288 with 1 Axes>"
      ]
     },
     "metadata": {
      "needs_background": "light"
     },
     "output_type": "display_data"
    }
   ],
   "source": [
    "#plt.figure(figsize=(10, 6))\n",
    "sns.barplot(x='grade', y='revol_util', data=df_filter, order=sorted(df_loan['grade'].unique()))\n",
    "plt.title('Revolving Line Utilization Rate by Grade')\n",
    "plt.xlabel('Grade')\n",
    "plt.ylabel('Revolving Line Utilization Rate')\n",
    "plt.show()"
   ]
  },
  {
   "cell_type": "markdown",
   "id": "6297a084",
   "metadata": {},
   "source": [
    "The revolving line utilization rate having value of 30 shows that borrowers exhibiting responsible as they are using only 30% of their available revolving credit where as grade G borrowers are at higher risk of defaulting with utiilzation rate of 80% "
   ]
  },
  {
   "cell_type": "code",
   "execution_count": 107,
   "id": "2e459c85",
   "metadata": {},
   "outputs": [
    {
     "data": {
      "image/png": "[encoded data removed]",
      "text/plain": [
       "<Figure size 432x288 with 1 Axes>"
      ]
     },
     "metadata": {
      "needs_background": "light"
     },
     "output_type": "display_data"
    }
   ],
   "source": [
    "#plt.figure(figsize=(10, 6))\n",
    "sns.barplot(x='home_ownership', y='pub_rec_bankruptcies', data=df_filter)\n",
    "plt.title('Number of Public Record Bankruptcies by Home Ownership')\n",
    "plt.xlabel('Home Ownership')\n",
    "plt.ylabel('Number of Public Record Bankruptcies')\n",
    "#plt.yticks(np.arange(0, df_loan['pub_rec_bankruptcies'].max() + 1, 1))\n",
    "plt.show()"
   ]
  },
  {
   "cell_type": "markdown",
   "id": "28513cc1",
   "metadata": {},
   "source": [
    "**Borrowers having mortgage have high possibility of Bankruptcies** "
   ]
  },
  {
   "cell_type": "code",
   "execution_count": 110,
   "id": "9f9230aa",
   "metadata": {},
   "outputs": [
    {
     "data": {
      "image/png": "[encoded data removed]",
      "text/plain": [
       "<Figure size 432x288 with 1 Axes>"
      ]
     },
     "metadata": {
      "needs_background": "light"
     },
     "output_type": "display_data"
    }
   ],
   "source": [
    "sns.boxplot(x='loan_status', y='inq_last_6mths', data=df_filter)\n",
    "plt.title('Number of Inquiries in Last 6 Months by loan Status')\n",
    "plt.xlabel('Loan Status')\n",
    "plt.ylabel('Number of Inquiries in Last 6 Months')\n",
    "plt.show()"
   ]
  },
  {
   "cell_type": "markdown",
   "id": "b9070fab",
   "metadata": {},
   "source": [
    "**Graph shows that charged off people have been inquired more in last 6 months.**"
   ]
  },
  {
   "cell_type": "code",
   "execution_count": 113,
   "id": "712361ae",
   "metadata": {},
   "outputs": [
    {
     "data": {
      "image/png": "[encoded data removed]",
      "text/plain": [
       "<Figure size 720x432 with 1 Axes>"
      ]
     },
     "metadata": {
      "needs_background": "light"
     },
     "output_type": "display_data"
    }
   ],
   "source": [
    "plt.figure(figsize=(10, 6))\n",
    "sns.boxplot(x='loan_status', y='int_rate',hue='term' ,data=df_filter)\n",
    "plt.title('Interest Rate by Loan Status')\n",
    "plt.xlabel('Home Ownership')\n",
    "plt.ylabel('Interest Rate (%)')\n",
    "plt.show()\n"
   ]
  },
  {
   "cell_type": "markdown",
   "id": "6a503e03",
   "metadata": {},
   "source": [
    "**Graph shows term wise intrest rate distribution which is almost same for both loan status categories**"
   ]
  },
  {
   "cell_type": "markdown",
   "id": "cf32ffa3",
   "metadata": {},
   "source": [
    "**We are creating bins to analyze numerical column in more efficient manner**"
   ]
  },
  {
   "cell_type": "code",
   "execution_count": 115,
   "id": "da35f8fc",
   "metadata": {},
   "outputs": [],
   "source": [
    "df_filter['int_rate_groups'] = pd.cut(df_filter['int_rate'], bins=5,precision =0,labels=['5%-9%','9%-13%','13%-17%','17%-21%','21%-24%'])\n",
    "df_filter['open_acc_groups'] = pd.cut(df_filter['open_acc'],bins = 5,precision =0,labels=['2-10','10-19','19-27','27-36','36-44'])\n",
    "df_filter['revol_util_groups'] = pd.cut(df_filter['revol_util'], bins=5,precision =0,labels=['0-20','20-40','40-60','60-80','80-100'])\n"
   ]
  },
  {
   "cell_type": "code",
   "execution_count": 117,
   "id": "29d3284b",
   "metadata": {},
   "outputs": [
    {
     "data": {
      "image/png": "[encoded data removed]",
      "text/plain": [
       "<Figure size 1080x720 with 2 Axes>"
      ]
     },
     "metadata": {
      "needs_background": "light"
     },
     "output_type": "display_data"
    }
   ],
   "source": [
    "fig, ax = plt.subplots(figsize = (15,10))\n",
    "plt.subplot(2,2,1)\n",
    "sns.countplot(x='int_rate_groups', data=df_filter[df_filter.loan_status == 'Charged Off'])\n",
    "plt.xlabel('Interest Rate')\n",
    "plt.subplot(222)\n",
    "sns.countplot(x='emp_length', data=df_filter[df_filter.loan_status == 'Charged Off'])\n",
    "plt.show()"
   ]
  },
  {
   "cell_type": "markdown",
   "id": "2199a281",
   "metadata": {},
   "source": [
    "**Borrowers who are charged off fall under intrest rate of 13-17%.**\n",
    "**Most borrowers have emp length more than 10 years**"
   ]
  },
  {
   "cell_type": "code",
   "execution_count": 122,
   "id": "79593490",
   "metadata": {},
   "outputs": [],
   "source": [
    "df_filter['open_acc_groups'] = pd.cut(df_filter['open_acc'],bins = 5,precision =0,labels=['2-10','10-19','19-27','27-36','36-44'])\n"
   ]
  },
  {
   "cell_type": "code",
   "execution_count": 123,
   "id": "ca4f37eb",
   "metadata": {},
   "outputs": [
    {
     "data": {
      "image/png": "[encoded data removed]",
      "text/plain": [
       "<Figure size 432x288 with 1 Axes>"
      ]
     },
     "metadata": {
      "needs_background": "light"
     },
     "output_type": "display_data"
    }
   ],
   "source": [
    "sns.countplot(x='open_acc_groups', data=df_filter[df_filter.loan_status == 'Charged Off'])\n",
    "plt.show()"
   ]
  },
  {
   "cell_type": "markdown",
   "id": "0ae6e197",
   "metadata": {},
   "source": [
    "**Most borrowers have 2-10 number of open credit lines**"
   ]
  },
  {
   "cell_type": "markdown",
   "id": "6923a562",
   "metadata": {},
   "source": [
    "**Loan vs Loan purpose**"
   ]
  },
  {
   "cell_type": "code",
   "execution_count": null,
   "id": "dc8d8d7e",
   "metadata": {},
   "outputs": [],
   "source": [
    "plt.figure(figsize=(10,10))\n",
    "sns.barplot(data =df_loan,x='loan_amnt', y='purpose', hue ='loan_status',palette=\"pastel\")\n",
    "plt.show()"
   ]
  },
  {
   "cell_type": "markdown",
   "id": "a18526ff",
   "metadata": {},
   "source": [
    "**Loan vs total account**"
   ]
  },
  {
   "cell_type": "code",
   "execution_count": null,
   "id": "eb693a0f",
   "metadata": {},
   "outputs": [],
   "source": [
    "plt.figure(figsize=(10,10))\n",
    "sns.barplot(data=df_loan,x='loan_amnt', y='total_acc_groups', hue ='loan_status',palette=\"pastel\")\n",
    "plt.show()"
   ]
  },
  {
   "cell_type": "markdown",
   "id": "0c09bdeb",
   "metadata": {},
   "source": [
    "# Observation\n",
    "- Default rate is highest when loan is taken for small business\n",
    "- Default rate is smalles for renewable energy"
   ]
  },
  {
   "cell_type": "markdown",
   "id": "b83fbd44",
   "metadata": {},
   "source": [
    "**Analyzing employment length**"
   ]
  },
  {
   "cell_type": "code",
   "execution_count": null,
   "id": "6b87f51f",
   "metadata": {},
   "outputs": [],
   "source": [
    "df_loan['emp_length'].describe()"
   ]
  },
  {
   "cell_type": "code",
   "execution_count": null,
   "id": "b8b6fb5c",
   "metadata": {},
   "outputs": [],
   "source": [
    "sns.countplot(x='emp_length', data=df_loan[df_loan.loan_status == 'Charged Off'])"
   ]
  },
  {
   "cell_type": "code",
   "execution_count": null,
   "id": "281fc9dd",
   "metadata": {},
   "outputs": [],
   "source": [
    "sns.countplot(x='addr_state',data=df_loan[df_loan.loan_status == 'Charged Off'])"
   ]
  },
  {
   "cell_type": "markdown",
   "id": "0dcc6cd2",
   "metadata": {},
   "source": [
    "**Analyzing DTI**"
   ]
  },
  {
   "cell_type": "code",
   "execution_count": null,
   "id": "8eabbe25",
   "metadata": {},
   "outputs": [],
   "source": [
    "df_loan['dti_groups'] = pd.cut(df_loan['dti'], bins=5,precision =0,labels=['0-6','6-12','12-18','18-24','24-30'])"
   ]
  },
  {
   "cell_type": "code",
   "execution_count": null,
   "id": "10669bee",
   "metadata": {},
   "outputs": [],
   "source": [
    "sns.countplot(x='dti_groups', data=df_loan[df_loan['loan_status']=='Charged Off'])"
   ]
  },
  {
   "cell_type": "markdown",
   "id": "af6fe423",
   "metadata": {},
   "source": [
    "**Analyzing pupose**"
   ]
  },
  {
   "cell_type": "code",
   "execution_count": null,
   "id": "4e3da0fc",
   "metadata": {},
   "outputs": [],
   "source": [
    "sns.countplot(y ='purpose', data=df_loan[df_loan.loan_status == 'Charged Off'])"
   ]
  },
  {
   "cell_type": "markdown",
   "id": "4689462d",
   "metadata": {},
   "source": [
    "**Analyzing deliquency 2 years**"
   ]
  },
  {
   "cell_type": "code",
   "execution_count": null,
   "id": "1bc2b70f",
   "metadata": {},
   "outputs": [],
   "source": [
    "sns.countplot(y ='delinq_2yrs', data=df_loan[df_loan.loan_status == 'Charged Off'])"
   ]
  },
  {
   "cell_type": "code",
   "execution_count": null,
   "id": "13b542a5",
   "metadata": {},
   "outputs": [],
   "source": [
    "sns.countplot(y ='delinq_2yrs', data=df_loan[df_loan.loan_status == 'Fully Paid'])"
   ]
  },
  {
   "cell_type": "markdown",
   "id": "24c475c3",
   "metadata": {},
   "source": [
    "There seems to be no relation between delinq_2yrs and default rate"
   ]
  },
  {
   "cell_type": "markdown",
   "id": "b8f7119f",
   "metadata": {},
   "source": [
    "**Analyzing total accounts**"
   ]
  },
  {
   "cell_type": "code",
   "execution_count": null,
   "id": "1a7ca399",
   "metadata": {},
   "outputs": [],
   "source": [
    "df_loan.total_acc.describe()"
   ]
  },
  {
   "cell_type": "markdown",
   "id": "74b27716",
   "metadata": {},
   "source": [
    "total account varies from 2-90. So we can create buckets here"
   ]
  },
  {
   "cell_type": "code",
   "execution_count": null,
   "id": "5a1ef7e8",
   "metadata": {},
   "outputs": [],
   "source": [
    "df_loan['total_acc_groups'] = pd.cut(df_loan['total_acc'], bins=10,precision =0,labels=['0-9','10-19','20-29','30-39','40-49','50-59','60-69','70-79','80-89','90-99'])"
   ]
  },
  {
   "cell_type": "code",
   "execution_count": null,
   "id": "b566c470",
   "metadata": {},
   "outputs": [],
   "source": [
    "sns.countplot(x='total_acc_groups', data=df_loan[df_loan['loan_status']=='Charged Off'])"
   ]
  },
  {
   "cell_type": "markdown",
   "id": "d79a7e79",
   "metadata": {},
   "source": [
    "**Analyzing earliest_cr_line**"
   ]
  },
  {
   "cell_type": "code",
   "execution_count": null,
   "id": "91787721",
   "metadata": {},
   "outputs": [],
   "source": [
    "df_loan.earliest_cr_line.describe()"
   ]
  },
  {
   "cell_type": "code",
   "execution_count": null,
   "id": "b6b2b8ef",
   "metadata": {},
   "outputs": [],
   "source": []
  },
  {
   "cell_type": "code",
   "execution_count": null,
   "id": "c20ea41e",
   "metadata": {},
   "outputs": [],
   "source": [
    "df_loan.earliest_cr_line = pd.to_numeric(df_loan.earliest_cr_line.apply(lambda x : x.split('-')[1]))"
   ]
  },
  {
   "cell_type": "markdown",
   "id": "300dc00b",
   "metadata": {},
   "source": [
    "df_loan.earliest_cr_line = pd.to_numeric(df_loan.earliest_cr_line.apply(lambda x : x if x < 12 else 100 - x))"
   ]
  },
  {
   "cell_type": "code",
   "execution_count": null,
   "id": "21153d43",
   "metadata": {},
   "outputs": [],
   "source": [
    "df_loan['earliest_cr_line_groups'] = pd.cut(df_loan['earliest_cr_line'], bins=10,precision =0,labels=['0-5','6-12','13-18','19-24','25-30','31-36','37-42','43-48','49-54','55-60'])"
   ]
  },
  {
   "cell_type": "code",
   "execution_count": null,
   "id": "68f6cb2f",
   "metadata": {},
   "outputs": [],
   "source": [
    "sns.countplot(x='earliest_cr_line_groups', data=df_loan[df_loan['loan_status']=='Charged Off'])"
   ]
  },
  {
   "cell_type": "markdown",
   "id": "42785ba1",
   "metadata": {},
   "source": [
    "**Analyzing pub_rec**"
   ]
  },
  {
   "cell_type": "code",
   "execution_count": null,
   "id": "1e27f26d",
   "metadata": {},
   "outputs": [],
   "source": [
    "df_loan.pub_rec.describe()"
   ]
  },
  {
   "cell_type": "code",
   "execution_count": null,
   "id": "ddca42c5",
   "metadata": {},
   "outputs": [],
   "source": [
    "sns.countplot(x='pub_rec', data=df_loan[df_loan['loan_status']=='Charged Off'])"
   ]
  },
  {
   "cell_type": "code",
   "execution_count": null,
   "id": "07e30532",
   "metadata": {},
   "outputs": [],
   "source": [
    "sns.countplot(x='pub_rec', data=df_loan[df_loan['loan_status']=='Fully Paid'])"
   ]
  },
  {
   "cell_type": "markdown",
   "id": "d9479509",
   "metadata": {},
   "source": [
    "Number of derogatory public records seems to have no effect on probability of defaulting"
   ]
  },
  {
   "cell_type": "markdown",
   "id": "0cfe6b76",
   "metadata": {},
   "source": [
    "# Observations\n",
    "\n",
    "## The above analysis with respect to the charged off loans for each variable suggests the following. There is a more probability of defaulting when :\n",
    "\n",
    "\n",
    "- Dti is between 12-18\n",
    "- Applicants who use the loan to clear other debts\n",
    "- Applicants who have 10-19 loan accounts\n",
    "- Applicants who have recent credit history"
   ]
  },
  {
   "cell_type": "code",
   "execution_count": null,
   "id": "afa983cd",
   "metadata": {},
   "outputs": [],
   "source": []
  },
  {
   "cell_type": "code",
   "execution_count": null,
   "id": "bcc3b3e9",
   "metadata": {},
   "outputs": [],
   "source": []
  }
 ],
 "metadata": {
  "kernelspec": {
   "display_name": "Python 3 (ipykernel)",
   "language": "python",
   "name": "python3"
  },
  "language_info": {
   "codemirror_mode": {
    "name": "ipython",
    "version": 3
   },
   "file_extension": ".py",
   "mimetype": "text/x-python",
   "name": "python",
   "nbconvert_exporter": "python",
   "pygments_lexer": "ipython3",
   "version": "3.11.5"
  }
 },
 "nbformat": 4,
 "nbformat_minor": 5
}
